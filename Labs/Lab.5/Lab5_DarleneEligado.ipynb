{
 "cells": [
  {
   "cell_type": "markdown",
   "metadata": {},
   "source": [
    "# Lab 5\n"
   ]
  },
  {
   "cell_type": "markdown",
   "metadata": {},
   "source": [
    "Matrix Representation: In this lab you will be creating a simple linear algebra system. In memory, we will represent matrices as nested python lists as we have done in lecture. \n",
    "\n",
    "1. Create a `matrix` class with the following properties:\n",
    "    * It can be initialized in 2 ways:\n",
    "        1. with arguments `n` and `m`, the size of the matrix. A newly instanciated matrix will contain all zeros.\n",
    "        2. with a list of lists of values. Note that since we are using lists of lists to implement matrices, it is possible that not all rows have the same number of columns. Test explicitly that the matrix is properly specified.\n",
    "    * Matrix instances `M` can be indexed with `M[i][j]` and `M[i,j]`.\n",
    "    * Matrix assignment works in 2 ways:\n",
    "        1. If `M_1` and `M_2` are `matrix` instances `M_1=M_2` sets the values of `M_1` to those of `M_2`, if they are the same size. Error otherwise.\n",
    "        2. In example above `M_2` can be a list of lists of correct size.\n"
   ]
  },
  {
   "cell_type": "code",
   "execution_count": 27,
   "metadata": {},
   "outputs": [],
   "source": [
    "class matrix:\n",
    "    def __init__(self, m, n, matrix_val=None):\n",
    "        if matrix_val:\n",
    "            self.matrix = matrix_val\n",
    "            self.m = len(matrix_val) \n",
    "            self.n = len(matrix_val[0]) \n",
    "        else:\n",
    "            self.matrix = [[0]*n for _ in range(m)]\n",
    "            self.m = m\n",
    "            self.n = n\n",
    "\n",
    "    def values(self, row, col, val):\n",
    "        if row < len(self.matrix) and col < len(self.matrix[0]):\n",
    "            self.matrix[row][col] = val\n",
    "\n",
    "    def print_matrix(self):\n",
    "        for row in self.matrix:\n",
    "            print(row)"
   ]
  },
  {
   "cell_type": "code",
   "execution_count": 28,
   "metadata": {},
   "outputs": [
    {
     "name": "stdout",
     "output_type": "stream",
     "text": [
      "[0, 0, 0, 0]\n",
      "[0, 0, 0, 0]\n",
      "[0, 0, 0, 0]\n",
      "[0, 0, 0, 0]\n"
     ]
    }
   ],
   "source": [
    "# matrix contain all zeros\n",
    "test0 = matrix(4,4)\n",
    "test0.print_matrix()"
   ]
  },
  {
   "cell_type": "code",
   "execution_count": 30,
   "metadata": {},
   "outputs": [
    {
     "name": "stdout",
     "output_type": "stream",
     "text": [
      "[1, 2, 0, 0]\n",
      "[0, 1, 3, 0]\n",
      "[0, 0, 2, 4]\n",
      "[0, 0, 0, 3]\n"
     ]
    }
   ],
   "source": [
    "# matrix w/ added values\n",
    "\n",
    "test0.values(0, 0, 1)\n",
    "test0.values(0, 1, 2)\n",
    "test0.values(1, 2, 3)\n",
    "test0.values(2, 3, 4)\n",
    "\n",
    "test0.print_matrix()"
   ]
  },
  {
   "cell_type": "markdown",
   "metadata": {},
   "source": [
    "2. Add the following methods:\n",
    "    * `shape()`: returns a tuple `(n,m)` of the shape of the matrix.\n",
    "    * `transpose()`: returns a new matrix instance which is the transpose of the matrix.\n",
    "    * `row(n)` and `column(n)`: that return the nth row or column of the matrix M as a new appropriately shaped matrix object.\n",
    "    * `to_list()`: which returns the matrix as a list of lists.\n",
    "    *  `block(n_0,n_1,m_0,m_1)` that returns a smaller matrix located at the n_0 to n_1 columns and m_0 to m_1 rows. \n",
    "    * (Extra credit) Modify `__getitem__` implemented above to support slicing.\n",
    "        "
   ]
  },
  {
   "cell_type": "code",
   "execution_count": 33,
   "metadata": {},
   "outputs": [],
   "source": [
    "class matrix:\n",
    "    def __init__(self, m, n, matrix_val=None):\n",
    "        if matrix_val:\n",
    "            self.matrix = matrix_val\n",
    "            self.m = len(matrix_val) \n",
    "            self.n = len(matrix_val[0]) \n",
    "        else:\n",
    "            self.matrix = [[0]*n for _ in range(m)]\n",
    "            self.m = m\n",
    "            self.n = n\n",
    "\n",
    "    def values(self, row, col, val):\n",
    "        if row < len(self.matrix) and col < len(self.matrix[0]):\n",
    "            self.matrix[row][col] = val\n",
    "\n",
    "    def print_matrix(self):\n",
    "        for row in self.matrix:\n",
    "            print(row)\n",
    "            \n",
    "    def shape(self):\n",
    "        return (self.n, self.m)\n",
    "    \n",
    "    def transpose(self):\n",
    "        transposed = [[self.matrix[j][i] for j in range(self.m)] for i in range(self.n)]\n",
    "        return matrix(self.n, self.m, transposed)\n",
    "    \n",
    "    def row(self, n):\n",
    "        return matrix(1, self.n, matrix_val=[self.matrix[n]])\n",
    "    \n",
    "    def column(self, n):\n",
    "        return matrix(self.m, 1, matrix_val=[[self.matrix[i][n]] for i in range(self.m)])\n",
    "    \n",
    "    def to_list(self):\n",
    "        return self.matrix\n",
    "\n",
    "    def block(self, n_0, n_1, m_0, m_1): # 0 is starting row/col, 1 is ending row/col\n",
    "        return matrix(m_1 - m_0 + 1, n_1 - n_0 + 1, matrix_val=[row[n_0:n_1+1] for row in self.matrix[m_0:m_1+1]])"
   ]
  },
  {
   "cell_type": "code",
   "execution_count": 40,
   "metadata": {},
   "outputs": [
    {
     "name": "stdout",
     "output_type": "stream",
     "text": [
      "[1, 2, 0, 0]\n",
      "[0, 0, 3, 0]\n",
      "[0, 0, 0, 4]\n",
      "[0, 0, 0, 0]\n",
      "\n",
      "Shape of Matrix: (4, 4)\n",
      "\n",
      "Transpose of Matrix:\n",
      "[1, 0, 0, 0]\n",
      "[2, 0, 0, 0]\n",
      "[0, 3, 0, 0]\n",
      "[0, 0, 4, 0]\n",
      "\n",
      "Row 0 of Matrix:\n",
      "[1, 2, 0, 0]\n",
      "\n",
      "Column 0 of Matrix:\n",
      "[1]\n",
      "[0]\n",
      "[0]\n",
      "[0]\n",
      "\n",
      "Matrix as list: [[1, 2, 0, 0], [0, 0, 3, 0], [0, 0, 0, 4], [0, 0, 0, 0]]\n",
      "\n",
      "Block of Matrix:\n",
      "[0, 0, 3]\n",
      "[0, 0, 0]\n",
      "[0, 0, 0]\n"
     ]
    }
   ],
   "source": [
    "# test using test0\n",
    "test0.print_matrix()\n",
    "\n",
    "print(\"\\nShape of Matrix:\", test0.shape())\n",
    "\n",
    "print(\"\\nTranspose of Matrix:\")\n",
    "test0_transpose = test0.transpose()\n",
    "test0_transpose.print_matrix()\n",
    "\n",
    "print(\"\\nRow 0 of Matrix:\")\n",
    "test0_row = test0.row(0)\n",
    "test0_row.print_matrix()\n",
    "\n",
    "print(\"\\nColumn 0 of Matrix:\")\n",
    "test0_col = test0.column(0)\n",
    "test0_col.print_matrix()\n",
    "\n",
    "print(\"\\nMatrix as list:\", test0.to_list())\n",
    "\n",
    "print(\"\\nBlock of Matrix:\")\n",
    "test0_block = test0.block(0, 2, 1, 3)\n",
    "test0_block.print_matrix()"
   ]
  },
  {
   "cell_type": "markdown",
   "metadata": {},
   "source": [
    "3. Write functions that create special matrices (note these are standalone functions, not member functions of your `matrix` class):\n",
    "    * `constant(n,m,c)`: returns a `n` by `m` matrix filled with floats of value `c`.\n",
    "    * `zeros(n,m)` and `ones(n,m)`: return `n` by `m` matrices filled with floats of value `0` and `1`, respectively.\n",
    "    * `eye(n)`: returns the n by n identity matrix."
   ]
  },
  {
   "cell_type": "code",
   "execution_count": 41,
   "metadata": {},
   "outputs": [],
   "source": [
    "def constant(n, m, c): # c is float\n",
    "    return [[c] * m for i in range(n)]"
   ]
  },
  {
   "cell_type": "code",
   "execution_count": 44,
   "metadata": {},
   "outputs": [
    {
     "name": "stdout",
     "output_type": "stream",
     "text": [
      "[2.22, 2.22]\n",
      "[2.22, 2.22]\n"
     ]
    }
   ],
   "source": [
    "# test \n",
    "\n",
    "const = constant(2,2,2.22)\n",
    "for row in const:\n",
    "    print(row)"
   ]
  },
  {
   "cell_type": "code",
   "execution_count": 55,
   "metadata": {},
   "outputs": [],
   "source": [
    "def zeros(n, m):\n",
    "    return constant(n, m, 0.1) # using constant fcn but fill w/ zeros "
   ]
  },
  {
   "cell_type": "code",
   "execution_count": 56,
   "metadata": {},
   "outputs": [
    {
     "name": "stdout",
     "output_type": "stream",
     "text": [
      "[0.1, 0.1]\n",
      "[0.1, 0.1]\n"
     ]
    }
   ],
   "source": [
    "# test \n",
    "zero0 = zeros(2,2)\n",
    "for row in zero0:\n",
    "    print(row)"
   ]
  },
  {
   "cell_type": "code",
   "execution_count": 57,
   "metadata": {},
   "outputs": [],
   "source": [
    "def ones(n, m):\n",
    "    return constant(n, m, 1.2) # using constant fcn but fill w/ 1s"
   ]
  },
  {
   "cell_type": "code",
   "execution_count": 58,
   "metadata": {},
   "outputs": [
    {
     "name": "stdout",
     "output_type": "stream",
     "text": [
      "[1.2, 1.2]\n",
      "[1.2, 1.2]\n"
     ]
    }
   ],
   "source": [
    "ones0 = ones(2,2)\n",
    "for row in ones0:\n",
    "    print(row)"
   ]
  },
  {
   "cell_type": "code",
   "execution_count": 59,
   "metadata": {},
   "outputs": [],
   "source": [
    "def eye(n):\n",
    "    return [[1 if i == j else 0 for j in range(n)] for i in range(n)]"
   ]
  },
  {
   "cell_type": "code",
   "execution_count": 62,
   "metadata": {},
   "outputs": [
    {
     "name": "stdout",
     "output_type": "stream",
     "text": [
      "[1, 0]\n",
      "[0, 1]\n"
     ]
    }
   ],
   "source": [
    "# test\n",
    "eye0 = eye(2)\n",
    "for row in eye0:\n",
    "    print(row)"
   ]
  },
  {
   "cell_type": "markdown",
   "metadata": {},
   "source": [
    "4. Add the following member functions to your class. Make sure to appropriately test the dimensions of the matrices to make sure the operations are correct.\n",
    "    * `M.scalarmul(c)`: a matrix that is scalar product $cM$, where every element of $M$ is multiplied by $c$.\n",
    "    * `M.add(N)`: adds two matrices $M$ and $N$. Don’t forget to test that the sizes of the matrices are compatible for this and all other operations.\n",
    "    * `M.sub(N)`: subtracts two matrices $M$ and $N$.\n",
    "    * `M.mat_mult(N)`: returns a matrix that is the matrix product of two matrices $M$ and $N$.\n",
    "    * `M.element_mult(N)`: returns a matrix that is the element-wise product of two matrices $M$ and $N$.\n",
    "    * `M.equals(N)`: returns true/false if $M==N$."
   ]
  },
  {
   "cell_type": "code",
   "execution_count": 94,
   "metadata": {},
   "outputs": [],
   "source": [
    "class matrix:\n",
    "    def __init__(self, m, n, matrix_val=None):\n",
    "        if matrix_val:\n",
    "            self.matrix = matrix_val\n",
    "            self.m = len(matrix_val) \n",
    "            self.n = len(matrix_val[0]) \n",
    "        else:\n",
    "            self.matrix = [[0]*n for _ in range(m)]\n",
    "            self.m = m\n",
    "            self.n = n\n",
    "\n",
    "    def values(self, row, col, val):\n",
    "        if row < len(self.matrix) and col < len(self.matrix[0]):\n",
    "            self.matrix[row][col] = val\n",
    "\n",
    "    def print_matrix(self):\n",
    "        for row in self.matrix:\n",
    "            print(row)\n",
    "            \n",
    "    def shape(self):\n",
    "        return (self.n, self.m)\n",
    "    \n",
    "    def transpose(self):\n",
    "        transposed = [[self.matrix[j][i] for j in range(self.m)] for i in range(self.n)]\n",
    "        return matrix(self.n, self.m, transposed)\n",
    "    \n",
    "    def row(self, n):\n",
    "        return matrix(1, self.n, matrix_val=[self.matrix[n]])\n",
    "    \n",
    "    def column(self, n):\n",
    "        return matrix(self.m, 1, matrix_val=[[self.matrix[i][n]] for i in range(self.m)])\n",
    "    \n",
    "    def to_list(self):\n",
    "        return self.matrix\n",
    "\n",
    "    def block(self, n_0, n_1, m_0, m_1): # 0 is starting row/col, 1 is ending row/col\n",
    "        return matrix(m_1 - m_0 + 1, n_1 - n_0 + 1, matrix_val=[row[n_0:n_1+1] for row in self.matrix[m_0:m_1+1]])\n",
    "    \n",
    "    def scalarmul(self,c):\n",
    "        result = [[self.matrix[i][j] * c for j in range(self.n)] for i in range(self.m)]\n",
    "        return matrix(self.m, self.n, matrix_val=result)\n",
    "    \n",
    "    def add(self, N):\n",
    "        if self.m != N.m or self.n != N.n:\n",
    "            print(\"Error, matrix must have same dimensions\")\n",
    "        result = [[self.matrix[i][j] + N.matrix[i][j] for j in range(self.n)] for i in range(self.m)]\n",
    "        return matrix(self.m, self.n, matrix_val=result)\n",
    "\n",
    "\n",
    "    def sub(self, N):\n",
    "        if self.m != N.m or self.n != N.n:\n",
    "            print(\"Error, matrix must have same dimensions\")\n",
    "        result = [[self.matrix[i][j] - N.matrix[i][j] for j in range(self.n)] for i in range(self.m)]\n",
    "        return matrix(self.m, self.n, matrix_val=result)\n",
    " \n",
    "    def mat_mult(self, N):\n",
    "        if self.n != N.m: # num of cols in 1st matrix must be == to the num of rows in 2nd matrix\n",
    "            print(\"Error, number of columns in matrix 1 NOT EQUAL to number of rows in matrix 2\")\n",
    "        else: \n",
    "            result = [[sum(self.matrix[i][k] * N.matrix[k][j] for k in range(self.n)) for j in range(N.n)] for i in range(self.m)]\n",
    "        return matrix(self.m, N.n, matrix_val=result)\n",
    "\n",
    "    def element_mult(self, N):\n",
    "        if self.m != N.m or self.n != N.n:\n",
    "            print(\"Error, matrix must have same dimensions for element multiplication\")\n",
    "        else: \n",
    "             result = [[self.matrix[i][j] * N.matrix[i][j] for j in range(self.n)] for i in range(self.m)]\n",
    "        return matrix(self.m, self.n, matrix_val=result)\n",
    "    \n",
    "    def equals(self, N):\n",
    "        if self.m != N.m or self.n != N.n:\n",
    "            return False\n",
    "        \n",
    "        for i in range(self.m):\n",
    "            for j in range(self.n):\n",
    "                if self.matrix[i][j] != N.matrix[i][j]:\n",
    "                    return False\n",
    "        return True       "
   ]
  },
  {
   "cell_type": "code",
   "execution_count": 111,
   "metadata": {},
   "outputs": [
    {
     "name": "stdout",
     "output_type": "stream",
     "text": [
      "Print Matrix 1 & 2:\n",
      "[1, 2]\n",
      "[3, 4]\n",
      "\n",
      "\n",
      "[4, 3]\n",
      "[2, 1]\n",
      "\n",
      "Scalar Multiplication Matrix for matrix 1: \n",
      "[2, 4]\n",
      "[6, 8]\n",
      "\n",
      "Add matrix 1 & 2:\n",
      "[5, 5]\n",
      "[5, 5]\n",
      "\n",
      "Subtract matrix 2 from matrix 1:\n",
      "[3, 1]\n",
      "[-1, -3]\n",
      "\n",
      "Matrix 1 * Matrix 2:\n",
      "[8, 5]\n",
      "[20, 13]\n",
      "\n",
      "Element-wise multiplication for matrix 1 & 2:\n",
      "[4, 6]\n",
      "[6, 4]\n",
      "\n",
      "Is matrix 1 equal to matrix 2? False\n"
     ]
    }
   ],
   "source": [
    "# tests\n",
    "\n",
    "test1 = matrix(2,2, matrix_val=[[1,2],[3,4]])\n",
    "test2 = matrix(2,2, matrix_val=[[4,3],[2,1]])\n",
    "\n",
    "print(\"Print Matrix 1 & 2:\")\n",
    "test1.print_matrix()\n",
    "print(\"\\n\")\n",
    "test2.print_matrix()\n",
    "\n",
    " \n",
    "print(\"\\nScalar Multiplication Matrix for matrix 1: \")\n",
    "c=2\n",
    "scalar_matrix = test1.scalarmul(c)\n",
    "scalar_matrix.print_matrix()\n",
    "\n",
    "print(\"\\nAdd matrix 1 & 2:\")\n",
    "add_tests = test1.add(test2)\n",
    "add_tests.print_matrix()\n",
    "\n",
    "print(\"\\nSubtract matrix 2 from matrix 1:\")\n",
    "sub_tests = test2.sub(test1)\n",
    "sub_tests.print_matrix()\n",
    "\n",
    "print(\"\\nMatrix 1 * Matrix 2:\")\n",
    "test1_test2 = test1.mat_mult(test2)\n",
    "test1_test2.print_matrix()\n",
    "\n",
    "print(\"\\nElement-wise multiplication for matrix 1 & 2:\") \n",
    "element_test = test1.element_mult(test2)\n",
    "element_test.print_matrix()\n",
    "\n",
    "print(\"\\nIs matrix 1 equal to matrix 2?\", test1.equals(test2)) # should be false"
   ]
  },
  {
   "cell_type": "markdown",
   "metadata": {},
   "source": [
    "5. Overload python operators to appropriately use your functions in 4 and allow expressions like:\n",
    "    * 2*M\n",
    "    * M*2\n",
    "    * M+N\n",
    "    * M-N\n",
    "    * M*N\n",
    "    * M==N\n",
    "    * M=N\n"
   ]
  },
  {
   "cell_type": "code",
   "execution_count": 15,
   "metadata": {},
   "outputs": [],
   "source": [
    "class matrix:\n",
    "    def __init__(self, m, n, matrix_val=None):\n",
    "        if matrix_val:\n",
    "            self.matrix = matrix_val\n",
    "            self.m = len(matrix_val) \n",
    "            self.n = len(matrix_val[0]) \n",
    "        else:\n",
    "            self.matrix = [[0]*n for _ in range(m)]\n",
    "            self.m = m\n",
    "            self.n = n\n",
    "\n",
    "    def values(self, row, col, val):\n",
    "        if row < len(self.matrix) and col < len(self.matrix[0]):\n",
    "            self.matrix[row][col] = val\n",
    "\n",
    "    def print_matrix(self):\n",
    "        for row in self.matrix:\n",
    "            print(row)\n",
    "            \n",
    "    def shape(self):\n",
    "        return (self.n, self.m)\n",
    "    \n",
    "    def transpose(self):\n",
    "        transposed = [[self.matrix[j][i] for j in range(self.m)] for i in range(self.n)]\n",
    "        return matrix(self.n, self.m, transposed)\n",
    "    \n",
    "    def row(self, n):\n",
    "        return matrix(1, self.n, matrix_val=[self.matrix[n]])\n",
    "    \n",
    "    def column(self, n):\n",
    "        return matrix(self.m, 1, matrix_val=[[self.matrix[i][n]] for i in range(self.m)])\n",
    "    \n",
    "    def to_list(self):\n",
    "        return self.matrix\n",
    "\n",
    "    def block(self, n_0, n_1, m_0, m_1): # 0 is starting row/col, 1 is ending row/col\n",
    "        return matrix(m_1 - m_0 + 1, n_1 - n_0 + 1, matrix_val=[row[n_0:n_1+1] for row in self.matrix[m_0:m_1+1]])\n",
    "    \n",
    "    def __scalarmul__(self,c):\n",
    "        result = [[self.matrix[i][j] * c for j in range(self.n)] for i in range(self.m)]\n",
    "        return matrix(self.m, self.n, matrix_val=result)\n",
    "    \n",
    "    def __add__(self, N):\n",
    "        if self.m != N.m or self.n != N.n:\n",
    "            print(\"Error, matrix must have same dimensions\")\n",
    "        result = [[self.matrix[i][j] + N.matrix[i][j] for j in range(self.n)] for i in range(self.m)]\n",
    "        return matrix(self.m, self.n, matrix_val=result)\n",
    "\n",
    "\n",
    "    def __sub__(self, N):\n",
    "        if self.m != N.m or self.n != N.n:\n",
    "            print(\"Error, matrix must have same dimensions\")\n",
    "        result = [[self.matrix[i][j] - N.matrix[i][j] for j in range(self.n)] for i in range(self.m)]\n",
    "        return matrix(self.m, self.n, matrix_val=result)\n",
    " \n",
    "    def __mul__(self, N):\n",
    "        if self.n != N.m: # num of cols in 1st matrix must be == to the num of rows in 2nd matrix\n",
    "            print(\"Error, number of columns in matrix 1 NOT EQUAL to number of rows in matrix 2\")\n",
    "        else: \n",
    "            result = [[sum(self.matrix[i][k] * N.matrix[k][j] for k in range(self.n)) for j in range(N.n)] for i in range(self.m)]\n",
    "        return matrix(self.m, N.n, matrix_val=result)\n",
    "\n",
    "    def __element_mult__(self, N):\n",
    "        if self.m != N.m or self.n != N.n:\n",
    "            print(\"Error, matrix must have same dimensions for element multiplication\")\n",
    "        else: \n",
    "             result = [[self.matrix[i][j] * N.matrix[i][j] for j in range(self.n)] for i in range(self.m)]\n",
    "        return matrix(self.m, self.n, matrix_val=result)\n",
    "    \n",
    "    def __eq__(self, N):\n",
    "        if self.m != N.m or self.n != N.n:\n",
    "            return False\n",
    "        \n",
    "        for i in range(self.m):\n",
    "            for j in range(self.n):\n",
    "                if self.matrix[i][j] != N.matrix[i][j]:\n",
    "                    return False\n",
    "        return True   "
   ]
  },
  {
   "cell_type": "markdown",
   "metadata": {},
   "source": [
    "6. Demonstrate the basic properties of matrices with your matrix class by creating two 2 by 2 example matrices using your Matrix class and illustrating the following:\n",
    "\n",
    "$$\n",
    "(AB)C=A(BC)\n",
    "$$\n",
    "$$\n",
    "A(B+C)=AB+AC\n",
    "$$\n",
    "$$\n",
    "AB\\neq BA\n",
    "$$\n",
    "$$\n",
    "AI=A\n",
    "$$"
   ]
  },
  {
   "cell_type": "code",
   "execution_count": 16,
   "metadata": {},
   "outputs": [
    {
     "name": "stdout",
     "output_type": "stream",
     "text": [
      "(AB)C = [[413, 454], [937, 1030]]\n",
      "\n",
      "A(BC) = [[413, 454], [937, 1030]]\n",
      "\n",
      "(AB)C = A(BC)? True\n",
      "\n",
      "\n",
      "A(B+C) = [[50, 56], [114, 128]]\n",
      "\n",
      "(AB)+(AC) = [[50, 56], [114, 128]]\n",
      "\n",
      "A(B+C) = (AB)+(AC)? True\n",
      "\n",
      "\n",
      "AB: [[19, 22], [43, 50]]\n",
      "\n",
      "BA: [[23, 34], [31, 46]]\n",
      "\n",
      "AB != to BA? True\n",
      "\n",
      "\n",
      "AI:  [[3, 0], [7, 0]]\n",
      "\n",
      "A:  [[1, 2], [3, 4]]\n",
      "\n",
      "AI = A? False\n"
     ]
    }
   ],
   "source": [
    "A = matrix(2,2, matrix_val=[[1,2],[3,4]])\n",
    "B = matrix(2,2, matrix_val=[[5,6],[7,8]])\n",
    "C = matrix(2,2, matrix_val=[[9,10],[11,12]])\n",
    "\n",
    "\n",
    "AB_C = (A * B) * C \n",
    "print(\"(AB)C =\", AB_C.to_list())\n",
    "A_BC = A * (B * C)\n",
    "print(\"\\nA(BC) =\", A_BC.to_list())\n",
    "\n",
    "print(\"\\n(AB)C = A(BC)?\", AB_C == A_BC) # T\n",
    "\n",
    "\n",
    "A_BplusC = A * ( B + C)\n",
    "print(\"\\n\\nA(B+C) =\",A_BplusC.to_list())\n",
    "AB_AC = (A * B) + (A * C)\n",
    "print(\"\\n(AB)+(AC) =\", AB_AC.to_list())\n",
    "\n",
    "print(\"\\nA(B+C) = (AB)+(AC)?\", A_BplusC==AB_AC) # T\n",
    "\n",
    "AB = A * B \n",
    "print(\"\\n\\nAB:\", AB.to_list())\n",
    "BA = B * A \n",
    "print(\"\\nBA:\", BA.to_list())\n",
    "\n",
    "print(\"\\nAB != to BA?\", AB != BA) # T\n",
    "\n",
    "\n",
    "I = matrix(2, 2, matrix_val=[[1, 0], [1, 0]])\n",
    "AI = A * I\n",
    "print(\"\\n\\nAI: \", AI.to_list())\n",
    "print(\"\\nA: \", A.to_list())\n",
    "\n",
    "print(\"\\nAI = A?\", AI == A) # F "
   ]
  }
 ],
 "metadata": {
  "kernelspec": {
   "display_name": "Python 3 (ipykernel)",
   "language": "python",
   "name": "python3"
  },
  "language_info": {
   "codemirror_mode": {
    "name": "ipython",
    "version": 3
   },
   "file_extension": ".py",
   "mimetype": "text/x-python",
   "name": "python",
   "nbconvert_exporter": "python",
   "pygments_lexer": "ipython3",
   "version": "3.11.5"
  }
 },
 "nbformat": 4,
 "nbformat_minor": 2
}
