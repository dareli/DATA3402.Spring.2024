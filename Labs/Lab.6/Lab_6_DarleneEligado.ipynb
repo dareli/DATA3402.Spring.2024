{
 "cells": [
  {
   "cell_type": "markdown",
   "metadata": {
    "id": "KAdawtKVyMGL"
   },
   "source": [
    "# Lab 5"
   ]
  },
  {
   "cell_type": "markdown",
   "metadata": {
    "id": "uPsgKb1oyMGO"
   },
   "source": [
    "You are tasked with evaluating card counting strategies for black jack. In order to do so, you will use object oriented programming to create a playable casino style black jack game where a computer dealer plays against $n$ computer players and possibily one human player. If you don't know the rules of blackjack or card counting, please google it.\n",
    "\n",
    "A few requirements:\n",
    "* The game should utilize multiple 52-card decks. Typically the game is played with 6 decks.\n",
    "* Players should have chips.\n",
    "* Dealer's actions are predefined by rules of the game (typically hit on 16).\n",
    "* The players should be aware of all shown cards so that they can count cards.\n",
    "* Each player could have a different strategy.\n",
    "* The system should allow you to play large numbers of games, study the outcomes, and compare average winnings per hand rate for different strategies."
   ]
  },
  {
   "cell_type": "markdown",
   "metadata": {
    "id": "fC4lMHKmyMGP"
   },
   "source": [
    "1. Begin by creating a classes to represent cards and decks. The deck should support more than one 52-card set. The deck should allow you to shuffle and draw cards. Include a \"plastic\" card, placed randomly in the deck. Later, when the plastic card is dealt, shuffle the cards before the next deal."
   ]
  },
  {
   "cell_type": "code",
   "execution_count": 70,
   "metadata": {
    "id": "Y5TVOKY5yOB1"
   },
   "outputs": [],
   "source": [
    "import random\n",
    "\n",
    "class Card:\n",
    "    def __init__(self, suit, value):\n",
    "        self.suit = suit\n",
    "        self.value = value\n",
    "\n",
    "    def __repr__(self):\n",
    "        return f\"{self.value} of {self.suit}\"\n",
    "\n",
    "class Deck:\n",
    "    def __init__(self, num_decks = 1):\n",
    "        self.num_decks = num_decks\n",
    "        self.cards = []\n",
    "        self.plastic_card = None\n",
    "        self.generate_deck()\n",
    "\n",
    "    def generate_deck(self): # generate deck\n",
    "        suits = ['Clubs', 'Diamonds', 'Hearts', 'Spades']\n",
    "        values = ['2','3','4','5','6','7','8','9','10', 'Jack', 'Queen', 'King', 'Ace']\n",
    "\n",
    "        for deck in range(self.num_decks):\n",
    "            for suit in suits:\n",
    "                for value in values:\n",
    "                    self.cards.append(Card(suit, value))\n",
    "\n",
    "        self.plastic_card = random.choice(self.cards) # card in deck as plastic card\n",
    "\n",
    "    def shuffle_deck(self): # to shuffle  cards\n",
    "        random.shuffle(self.cards)\n",
    "\n",
    "    def draw(self):\n",
    "        if len(self.cards) == 0:\n",
    "            print(\"The deck is empty.\")\n",
    "            return None\n",
    "        card_drawn = self.cards[0] # get from top of deck\n",
    "        self.cards = self.cards[1:] # remove card from the deck, update deck\n",
    "        return card_drawn\n",
    "\n",
    "    def deal(self, num_cards):\n",
    "        hand = []\n",
    "        for card in range(num_cards):\n",
    "            card = self.draw()\n",
    "            if card is not None:\n",
    "                hand.append(card) # add card to hand\n",
    "        return hand\n",
    "\n",
    "    def check_plastic_card(self, card):\n",
    "        return card == self.plastic_card # if card is plastic card\n",
    "\n",
    "    def reset(self): # generate new deck & shuffle again\n",
    "        self.cards.append(self.plastic_card)\n",
    "        self.generate_deck()\n",
    "        self.shuffle_deck()"
   ]
  },
  {
   "cell_type": "code",
   "execution_count": 71,
   "metadata": {
    "colab": {
     "base_uri": "https://localhost:8080/"
    },
    "id": "0txU50mMyd1X",
    "outputId": "507de236-6ad5-44bb-8bd3-77a70f8da224"
   },
   "outputs": [
    {
     "name": "stdout",
     "output_type": "stream",
     "text": [
      "Deck:  [2 of Clubs, 3 of Clubs, 4 of Clubs, 5 of Clubs, 6 of Clubs, 7 of Clubs, 8 of Clubs, 9 of Clubs, 10 of Clubs, Jack of Clubs, Queen of Clubs, King of Clubs, Ace of Clubs, 2 of Diamonds, 3 of Diamonds, 4 of Diamonds, 5 of Diamonds, 6 of Diamonds, 7 of Diamonds, 8 of Diamonds, 9 of Diamonds, 10 of Diamonds, Jack of Diamonds, Queen of Diamonds, King of Diamonds, Ace of Diamonds, 2 of Hearts, 3 of Hearts, 4 of Hearts, 5 of Hearts, 6 of Hearts, 7 of Hearts, 8 of Hearts, 9 of Hearts, 10 of Hearts, Jack of Hearts, Queen of Hearts, King of Hearts, Ace of Hearts, 2 of Spades, 3 of Spades, 4 of Spades, 5 of Spades, 6 of Spades, 7 of Spades, 8 of Spades, 9 of Spades, 10 of Spades, Jack of Spades, Queen of Spades, King of Spades, Ace of Spades, 2 of Clubs, 3 of Clubs, 4 of Clubs, 5 of Clubs, 6 of Clubs, 7 of Clubs, 8 of Clubs, 9 of Clubs, 10 of Clubs, Jack of Clubs, Queen of Clubs, King of Clubs, Ace of Clubs, 2 of Diamonds, 3 of Diamonds, 4 of Diamonds, 5 of Diamonds, 6 of Diamonds, 7 of Diamonds, 8 of Diamonds, 9 of Diamonds, 10 of Diamonds, Jack of Diamonds, Queen of Diamonds, King of Diamonds, Ace of Diamonds, 2 of Hearts, 3 of Hearts, 4 of Hearts, 5 of Hearts, 6 of Hearts, 7 of Hearts, 8 of Hearts, 9 of Hearts, 10 of Hearts, Jack of Hearts, Queen of Hearts, King of Hearts, Ace of Hearts, 2 of Spades, 3 of Spades, 4 of Spades, 5 of Spades, 6 of Spades, 7 of Spades, 8 of Spades, 9 of Spades, 10 of Spades, Jack of Spades, Queen of Spades, King of Spades, Ace of Spades, 2 of Clubs, 3 of Clubs, 4 of Clubs, 5 of Clubs, 6 of Clubs, 7 of Clubs, 8 of Clubs, 9 of Clubs, 10 of Clubs, Jack of Clubs, Queen of Clubs, King of Clubs, Ace of Clubs, 2 of Diamonds, 3 of Diamonds, 4 of Diamonds, 5 of Diamonds, 6 of Diamonds, 7 of Diamonds, 8 of Diamonds, 9 of Diamonds, 10 of Diamonds, Jack of Diamonds, Queen of Diamonds, King of Diamonds, Ace of Diamonds, 2 of Hearts, 3 of Hearts, 4 of Hearts, 5 of Hearts, 6 of Hearts, 7 of Hearts, 8 of Hearts, 9 of Hearts, 10 of Hearts, Jack of Hearts, Queen of Hearts, King of Hearts, Ace of Hearts, 2 of Spades, 3 of Spades, 4 of Spades, 5 of Spades, 6 of Spades, 7 of Spades, 8 of Spades, 9 of Spades, 10 of Spades, Jack of Spades, Queen of Spades, King of Spades, Ace of Spades, 2 of Clubs, 3 of Clubs, 4 of Clubs, 5 of Clubs, 6 of Clubs, 7 of Clubs, 8 of Clubs, 9 of Clubs, 10 of Clubs, Jack of Clubs, Queen of Clubs, King of Clubs, Ace of Clubs, 2 of Diamonds, 3 of Diamonds, 4 of Diamonds, 5 of Diamonds, 6 of Diamonds, 7 of Diamonds, 8 of Diamonds, 9 of Diamonds, 10 of Diamonds, Jack of Diamonds, Queen of Diamonds, King of Diamonds, Ace of Diamonds, 2 of Hearts, 3 of Hearts, 4 of Hearts, 5 of Hearts, 6 of Hearts, 7 of Hearts, 8 of Hearts, 9 of Hearts, 10 of Hearts, Jack of Hearts, Queen of Hearts, King of Hearts, Ace of Hearts, 2 of Spades, 3 of Spades, 4 of Spades, 5 of Spades, 6 of Spades, 7 of Spades, 8 of Spades, 9 of Spades, 10 of Spades, Jack of Spades, Queen of Spades, King of Spades, Ace of Spades, 2 of Clubs, 3 of Clubs, 4 of Clubs, 5 of Clubs, 6 of Clubs, 7 of Clubs, 8 of Clubs, 9 of Clubs, 10 of Clubs, Jack of Clubs, Queen of Clubs, King of Clubs, Ace of Clubs, 2 of Diamonds, 3 of Diamonds, 4 of Diamonds, 5 of Diamonds, 6 of Diamonds, 7 of Diamonds, 8 of Diamonds, 9 of Diamonds, 10 of Diamonds, Jack of Diamonds, Queen of Diamonds, King of Diamonds, Ace of Diamonds, 2 of Hearts, 3 of Hearts, 4 of Hearts, 5 of Hearts, 6 of Hearts, 7 of Hearts, 8 of Hearts, 9 of Hearts, 10 of Hearts, Jack of Hearts, Queen of Hearts, King of Hearts, Ace of Hearts, 2 of Spades, 3 of Spades, 4 of Spades, 5 of Spades, 6 of Spades, 7 of Spades, 8 of Spades, 9 of Spades, 10 of Spades, Jack of Spades, Queen of Spades, King of Spades, Ace of Spades, 2 of Clubs, 3 of Clubs, 4 of Clubs, 5 of Clubs, 6 of Clubs, 7 of Clubs, 8 of Clubs, 9 of Clubs, 10 of Clubs, Jack of Clubs, Queen of Clubs, King of Clubs, Ace of Clubs, 2 of Diamonds, 3 of Diamonds, 4 of Diamonds, 5 of Diamonds, 6 of Diamonds, 7 of Diamonds, 8 of Diamonds, 9 of Diamonds, 10 of Diamonds, Jack of Diamonds, Queen of Diamonds, King of Diamonds, Ace of Diamonds, 2 of Hearts, 3 of Hearts, 4 of Hearts, 5 of Hearts, 6 of Hearts, 7 of Hearts, 8 of Hearts, 9 of Hearts, 10 of Hearts, Jack of Hearts, Queen of Hearts, King of Hearts, Ace of Hearts, 2 of Spades, 3 of Spades, 4 of Spades, 5 of Spades, 6 of Spades, 7 of Spades, 8 of Spades, 9 of Spades, 10 of Spades, Jack of Spades, Queen of Spades, King of Spades, Ace of Spades] \n",
      "\n",
      "Plastic Card: Jack of Clubs\n"
     ]
    }
   ],
   "source": [
    "# testing\n",
    "\n",
    "deck = Deck(num_decks = 6) # bc (6 decks) 312 cards is popular w/ blackjack\n",
    "\n",
    "# initial\n",
    "print(\"Deck: \", deck.cards, \"\\n\\nPlastic Card:\", deck.plastic_card)"
   ]
  },
  {
   "cell_type": "code",
   "execution_count": 72,
   "metadata": {
    "colab": {
     "base_uri": "https://localhost:8080/"
    },
    "id": "LqjWjpViymEW",
    "outputId": "8399ee1e-ea29-4c22-b8f2-d3c3ee591e57"
   },
   "outputs": [
    {
     "name": "stdout",
     "output_type": "stream",
     "text": [
      "Drawn card:  2 of Clubs\n"
     ]
    }
   ],
   "source": [
    "# draw a card\n",
    "\n",
    "print(\"Drawn card: \", deck.draw())"
   ]
  },
  {
   "cell_type": "code",
   "execution_count": 73,
   "metadata": {
    "colab": {
     "base_uri": "https://localhost:8080/"
    },
    "id": "M_xzp4FMyp5R",
    "outputId": "2573c17c-5ba8-40a0-8b92-cc309a5efbcd"
   },
   "outputs": [
    {
     "name": "stdout",
     "output_type": "stream",
     "text": [
      "Deal:  [3 of Clubs, 4 of Clubs, 5 of Clubs, 6 of Clubs]\n"
     ]
    }
   ],
   "source": [
    "# deal hand\n",
    "\n",
    "hand = deck.deal(4)\n",
    "print(\"Deal: \", hand)"
   ]
  },
  {
   "cell_type": "code",
   "execution_count": 74,
   "metadata": {
    "colab": {
     "base_uri": "https://localhost:8080/"
    },
    "id": "rmf6Vw5GyrKC",
    "outputId": "43073860-b666-4c4f-9e79-13d3ba50c4b5"
   },
   "outputs": [
    {
     "name": "stdout",
     "output_type": "stream",
     "text": [
      "Reseted deck:  [2 of Clubs, 9 of Spades, 8 of Diamonds, 4 of Hearts, 5 of Spades, 6 of Spades, Jack of Diamonds, King of Clubs, 9 of Diamonds, 3 of Clubs, 6 of Hearts, 7 of Diamonds, Jack of Spades, 6 of Diamonds, 2 of Diamonds, 5 of Clubs, Ace of Clubs, 3 of Hearts, Queen of Diamonds, Jack of Spades, 5 of Clubs, 5 of Hearts, 2 of Spades, 7 of Diamonds, 6 of Diamonds, King of Clubs, 5 of Clubs, 2 of Clubs, King of Clubs, 9 of Diamonds, 7 of Hearts, 2 of Clubs, 4 of Diamonds, Ace of Clubs, Ace of Clubs, 10 of Clubs, Queen of Spades, 9 of Spades, 10 of Diamonds, Jack of Diamonds, King of Clubs, Jack of Hearts, 4 of Spades, Queen of Clubs, 3 of Clubs, 3 of Spades, 2 of Diamonds, 7 of Spades, 10 of Clubs, 10 of Hearts, 2 of Hearts, Jack of Clubs, 4 of Clubs, 3 of Hearts, 9 of Clubs, 10 of Spades, Ace of Hearts, 3 of Spades, King of Hearts, 10 of Hearts, 7 of Hearts, 7 of Clubs, 6 of Spades, 8 of Clubs, King of Spades, 2 of Hearts, 8 of Hearts, 5 of Clubs, Jack of Clubs, 2 of Diamonds, 8 of Hearts, 7 of Spades, 7 of Spades, 7 of Hearts, 6 of Diamonds, Ace of Hearts, 10 of Diamonds, 7 of Clubs, 9 of Clubs, 5 of Hearts, 4 of Clubs, King of Diamonds, 3 of Spades, 3 of Hearts, Jack of Spades, 8 of Diamonds, 5 of Diamonds, 6 of Spades, 4 of Spades, 3 of Diamonds, Ace of Spades, 9 of Spades, 4 of Spades, 3 of Diamonds, 6 of Diamonds, 3 of Hearts, Ace of Spades, 5 of Spades, 6 of Clubs, Queen of Clubs, 10 of Hearts, 6 of Hearts, 10 of Hearts, 3 of Hearts, 8 of Diamonds, King of Spades, 3 of Diamonds, Ace of Clubs, 6 of Spades, 7 of Diamonds, 8 of Clubs, 5 of Hearts, Ace of Diamonds, 5 of Clubs, 6 of Hearts, 4 of Hearts, 10 of Hearts, 3 of Diamonds, Queen of Clubs, 7 of Spades, Ace of Hearts, 4 of Spades, Jack of Hearts, Jack of Diamonds, Ace of Clubs, Ace of Spades, King of Hearts, Queen of Spades, 6 of Hearts, 3 of Spades, 9 of Clubs, 9 of Diamonds, 2 of Diamonds, 4 of Clubs, Queen of Clubs, 2 of Clubs, 7 of Hearts, 2 of Spades, Ace of Hearts, Queen of Clubs, 6 of Spades, King of Spades, 7 of Diamonds, 4 of Hearts, 4 of Diamonds, King of Clubs, Ace of Clubs, 2 of Clubs, 5 of Diamonds, 2 of Hearts, Ace of Spades, Jack of Clubs, Jack of Diamonds, 8 of Clubs, 6 of Diamonds, Queen of Hearts, 7 of Clubs, 3 of Clubs, 9 of Diamonds, King of Hearts, 3 of Clubs, 2 of Diamonds, 5 of Spades, King of Hearts, 9 of Diamonds, 2 of Diamonds, Ace of Spades, Queen of Clubs, Queen of Hearts, Ace of Spades, 3 of Diamonds, Jack of Diamonds, 3 of Diamonds, 10 of Hearts, 4 of Spades, 9 of Clubs, Jack of Diamonds, 7 of Clubs, 7 of Spades, 9 of Hearts, 7 of Clubs, Jack of Diamonds, 7 of Spades, 9 of Spades, Ace of Diamonds, Jack of Clubs, 10 of Spades, 9 of Hearts, Jack of Diamonds, 8 of Diamonds, 4 of Spades, Ace of Clubs, 4 of Hearts, King of Clubs, King of Clubs, 3 of Spades, 8 of Clubs, Jack of Diamonds, Ace of Diamonds, 3 of Spades, 10 of Spades, Queen of Spades, 5 of Spades, 7 of Clubs, 2 of Diamonds, 8 of Diamonds, 4 of Clubs, King of Diamonds, 8 of Spades, 8 of Spades, 4 of Clubs, Jack of Diamonds, 4 of Clubs, King of Hearts, 4 of Hearts, Jack of Spades, 8 of Clubs, Queen of Clubs, Queen of Diamonds, 4 of Hearts, Jack of Clubs, Queen of Clubs, 2 of Spades, 10 of Spades, 7 of Diamonds, 4 of Hearts, Ace of Diamonds, 8 of Hearts, 5 of Diamonds, 5 of Hearts, 7 of Diamonds, King of Diamonds, 8 of Spades, 9 of Diamonds, Queen of Spades, 6 of Clubs, 10 of Diamonds, 5 of Clubs, 8 of Spades, 5 of Spades, Jack of Spades, Queen of Spades, 10 of Spades, 8 of Spades, 3 of Diamonds, 9 of Hearts, 2 of Hearts, King of Diamonds, 8 of Diamonds, 3 of Spades, 10 of Spades, 5 of Spades, 9 of Clubs, 4 of Hearts, Ace of Hearts, Jack of Clubs, 2 of Hearts, 3 of Clubs, 9 of Hearts, 4 of Hearts, 6 of Hearts, 10 of Diamonds, Ace of Clubs, King of Hearts, 8 of Hearts, 8 of Clubs, Jack of Hearts, 9 of Hearts, 4 of Spades, Jack of Clubs, 2 of Clubs, 6 of Clubs, 4 of Hearts, Queen of Spades, 2 of Hearts, 7 of Spades, 6 of Hearts, 5 of Spades, Queen of Hearts, 9 of Spades, 4 of Clubs, 7 of Spades, 10 of Diamonds, King of Clubs, Jack of Clubs, 9 of Spades, Jack of Spades, King of Clubs, 8 of Diamonds, 9 of Diamonds, 10 of Hearts, 9 of Diamonds, King of Diamonds, 10 of Clubs, 10 of Hearts, 9 of Spades, Queen of Hearts, 4 of Spades, 7 of Hearts, 5 of Hearts, King of Clubs, 5 of Hearts, Jack of Spades, 10 of Spades, Ace of Clubs, 4 of Diamonds, Ace of Diamonds, 2 of Hearts, 3 of Hearts, 6 of Spades, 8 of Diamonds, 4 of Diamonds, 10 of Clubs, 6 of Clubs, Queen of Hearts, King of Diamonds, 8 of Spades, 7 of Hearts, Queen of Spades, 9 of Diamonds, King of Hearts, Queen of Clubs, 8 of Clubs, 4 of Diamonds, 4 of Diamonds, 5 of Diamonds, 9 of Spades, 8 of Clubs, Jack of Hearts, 3 of Spades, King of Spades, 5 of Hearts, King of Hearts, Ace of Diamonds, 6 of Clubs, 8 of Spades, 5 of Clubs, Queen of Hearts, 3 of Clubs, 4 of Hearts, Queen of Hearts, 10 of Spades, Ace of Spades, 6 of Spades, 10 of Diamonds, 8 of Diamonds, Jack of Clubs, 9 of Spades, Ace of Diamonds, 6 of Spades, 5 of Diamonds, Queen of Diamonds, Queen of Hearts, 9 of Clubs, 2 of Hearts, Ace of Diamonds, 8 of Hearts, Ace of Clubs, Queen of Spades, 10 of Diamonds, Ace of Diamonds, Jack of Hearts, Jack of Clubs, 9 of Spades, 7 of Hearts, 10 of Clubs, Jack of Spades, 8 of Clubs, 8 of Hearts, 2 of Hearts, Queen of Hearts, 7 of Spades, Queen of Diamonds, Jack of Clubs, 9 of Hearts, 4 of Diamonds, 5 of Diamonds, 3 of Spades, 7 of Diamonds, King of Spades, 5 of Clubs, 5 of Hearts, Queen of Diamonds, 9 of Diamonds, 5 of Clubs, Jack of Diamonds, Queen of Diamonds, Jack of Hearts, 5 of Spades, King of Spades, 7 of Clubs, Queen of Clubs, 4 of Clubs, King of Diamonds, Queen of Diamonds, King of Clubs, Jack of Clubs, King of Hearts, 4 of Spades, 3 of Hearts, 6 of Diamonds, 10 of Spades, King of Diamonds, Ace of Hearts, 3 of Hearts, 7 of Diamonds, 6 of Clubs, 9 of Spades, 8 of Hearts, Jack of Spades, 10 of Spades, Queen of Diamonds, 3 of Clubs, 5 of Diamonds, 6 of Spades, 10 of Hearts, 5 of Hearts, Queen of Spades, Ace of Hearts, 2 of Hearts, 2 of Spades, 6 of Diamonds, 8 of Hearts, 7 of Hearts, 5 of Hearts, King of Spades, 7 of Clubs, 6 of Hearts, Queen of Diamonds, King of Hearts, 3 of Spades, 6 of Clubs, 7 of Clubs, Jack of Diamonds, Jack of Hearts, 3 of Clubs, Ace of Diamonds, Jack of Hearts, 6 of Diamonds, 7 of Hearts, Queen of Diamonds, 7 of Diamonds, 6 of Clubs, 8 of Hearts, 6 of Diamonds, 2 of Diamonds, 4 of Spades, 4 of Diamonds, Queen of Spades, 9 of Clubs, Queen of Hearts, 2 of Hearts, Ace of Diamonds, 6 of Clubs, 8 of Spades, 7 of Hearts, 8 of Diamonds, Ace of Hearts, 3 of Spades, 6 of Diamonds, 6 of Spades, 3 of Diamonds, Ace of Hearts, 10 of Diamonds, 9 of Hearts, Jack of Hearts, Ace of Hearts, 4 of Spades, 2 of Spades, 8 of Spades, 10 of Diamonds, 3 of Hearts, 5 of Diamonds, Jack of Spades, Jack of Hearts, King of Diamonds, 8 of Clubs, 2 of Diamonds, 10 of Spades, Jack of Spades, King of Spades, 4 of Clubs, 3 of Diamonds, 7 of Spades, 9 of Clubs, 6 of Spades, Ace of Diamonds, 5 of Diamonds, 5 of Spades, 10 of Diamonds, Jack of Hearts, 5 of Spades, 2 of Spades, Queen of Spades, 2 of Diamonds, 2 of Clubs, 9 of Hearts, 6 of Clubs, 8 of Hearts, 10 of Clubs, Jack of Hearts, 7 of Clubs, 3 of Diamonds, 3 of Clubs, Ace of Spades, 6 of Hearts, King of Spades, 8 of Hearts, Ace of Spades, Ace of Hearts, 2 of Clubs, Queen of Diamonds, King of Hearts, 9 of Spades, 6 of Diamonds, Ace of Spades, 6 of Spades, 7 of Clubs, 9 of Clubs, 8 of Clubs, 7 of Diamonds, Ace of Hearts, 4 of Diamonds, 5 of Hearts, 2 of Clubs, 8 of Clubs, 3 of Diamonds, 2 of Diamonds, 2 of Hearts, 7 of Diamonds, 10 of Clubs, 9 of Clubs, 10 of Clubs, 3 of Diamonds, 5 of Clubs, 2 of Spades, 10 of Hearts, Ace of Clubs, 6 of Hearts, 3 of Hearts, 6 of Clubs, 6 of Diamonds, 2 of Clubs, 4 of Diamonds, 10 of Diamonds, 3 of Clubs, 6 of Hearts, 3 of Hearts, 6 of Hearts, 4 of Clubs, King of Spades, 8 of Hearts, 2 of Spades, 3 of Spades, King of Diamonds, 5 of Diamonds, 3 of Clubs, 4 of Hearts, 5 of Diamonds, Queen of Diamonds, 5 of Clubs, 7 of Spades, King of Diamonds, Ace of Clubs, 8 of Spades, 5 of Hearts, 4 of Diamonds, 9 of Hearts, King of Spades, 2 of Spades, 9 of Diamonds, Ace of Spades, King of Hearts, 10 of Spades, 10 of Hearts, King of Spades, 2 of Clubs, 5 of Diamonds, Queen of Clubs, Jack of Spades, 7 of Clubs, 7 of Spades, Queen of Clubs, 5 of Spades, 7 of Hearts, 9 of Hearts, King of Diamonds, Ace of Spades, 4 of Clubs, 9 of Clubs, 3 of Hearts, Queen of Hearts, 9 of Hearts, 2 of Diamonds, 7 of Diamonds, 9 of Diamonds, King of Clubs, 6 of Hearts, Queen of Hearts, 7 of Hearts, 9 of Clubs, 4 of Diamonds, 10 of Diamonds, 10 of Hearts, 9 of Hearts, 10 of Clubs, 10 of Clubs, 8 of Diamonds, 10 of Clubs, 10 of Clubs, 2 of Spades, 5 of Spades, Queen of Spades, 8 of Spades, Jack of Clubs, 2 of Spades, 8 of Spades, 8 of Diamonds, 4 of Spades, 2 of Spades] \n",
      "\n",
      "Plastic card:  Ace of Diamonds\n"
     ]
    }
   ],
   "source": [
    "# reset\n",
    "\n",
    "deck.reset()\n",
    "print(\"Reseted deck: \", deck.cards, \"\\n\\nPlastic card: \", deck.plastic_card)"
   ]
  },
  {
   "cell_type": "markdown",
   "metadata": {
    "id": "xig_MvuPyMGP"
   },
   "source": [
    "2. Now design your game on a UML diagram. You may want to create classes to represent, players, a hand, and/or the game. As you work through the lab, update your UML diagram. At the end of the lab, submit your diagram (as pdf file) along with your notebook."
   ]
  },
  {
   "cell_type": "markdown",
   "metadata": {
    "id": "NurH9Xc6yfSC"
   },
   "source": [
    "---\n",
    "---\n",
    "---"
   ]
  },
  {
   "cell_type": "markdown",
   "metadata": {
    "id": "ALwDInK_yMGP"
   },
   "source": [
    "3. Begin with implementing the skeleton (ie define data members and methods/functions, but do not code the logic) of the classes in your UML diagram."
   ]
  },
  {
   "cell_type": "code",
   "execution_count": null,
   "metadata": {
    "colab": {
     "base_uri": "https://localhost:8080/",
     "height": 108
    },
    "id": "L7SY7Ws5yuU3",
    "outputId": "ab929d24-2400-4559-df97-27e8699d916f"
   },
   "outputs": [
    {
     "ename": "IndentationError",
     "evalue": "expected an indented block after function definition on line 3 (<ipython-input-36-67e59e1f327a>, line 6)",
     "output_type": "error",
     "traceback": [
      "\u001b[0;36m  File \u001b[0;32m\"<ipython-input-36-67e59e1f327a>\"\u001b[0;36m, line \u001b[0;32m6\u001b[0m\n\u001b[0;31m    def __str__(self):\u001b[0m\n\u001b[0m    ^\u001b[0m\n\u001b[0;31mIndentationError\u001b[0m\u001b[0;31m:\u001b[0m expected an indented block after function definition on line 3\n"
     ]
    }
   ],
   "source": [
    "class Card:\n",
    "\n",
    "    def __init__(self, suit, value):\n",
    "\n",
    "\n",
    "    def __str__(self):\n",
    "\n",
    "\n",
    "class Deck:\n",
    "\n",
    "    def __init__(self, num_decks=1):\n",
    "        pass\n",
    "\n",
    "    def generate_deck(self):\n",
    "        pass\n",
    "\n",
    "    def shuffle_deck(self):\n",
    "\n",
    "\n",
    "    def draw(self):\n",
    "\n",
    "\n",
    "    def deal(self, num_cards):\n",
    "\n",
    "\n",
    "    def check_plastic_card(self, card):\n",
    "\n",
    "\n",
    "    def reset(self):\n",
    "\n",
    "\n",
    "\n",
    "class Hand: # add/remove card to hand\n",
    "\n",
    "    def __init__(self):\n",
    "        self.cards = []\n",
    "\n",
    "    def add_card(self, card):\n",
    "\n",
    "\n",
    "    def remove_card(self, card):\n",
    "\n",
    "\n",
    "    def get_cards(self):\n",
    "\n",
    "\n",
    "\n",
    "class Player: # get name, return hand, set the hand\n",
    "\n",
    "    def __init__(self, name):\n",
    "        self.name = name\n",
    "        self.hand = Hand()\n",
    "\n",
    "    def get_name(self):\n",
    "\n",
    "\n",
    "    def get_hand(self):\n",
    "\n",
    "\n",
    "    def set_hand(self, hand):\n",
    "\n",
    "\n",
    "class Dealer(Player):\n",
    "    def __init__(self):\n",
    "        super().__init__(\"Dealer\") # from players\n",
    "\n",
    "\n",
    "    def play(self, deck):\n",
    "\n",
    "\n",
    "    def hand_value(self):\n",
    "\n",
    "\n",
    "class Game: # begin game, add players, play rounds\n",
    "\n",
    "    def __init__(self):\n",
    "        self.deck = Deck()\n",
    "        self.players = []\n",
    "\n",
    "    def start_game(self):\n",
    "\n",
    "\n",
    "    def add_player(self, player):\n",
    "\n",
    "\n",
    "    def play_round(self):\n"
   ]
  },
  {
   "cell_type": "markdown",
   "metadata": {
    "id": "FNFop6txyMGP"
   },
   "source": [
    "4. Complete the implementation by coding the logic of all functions. For now, just implement the dealer player and human player."
   ]
  },
  {
   "cell_type": "code",
   "execution_count": null,
   "metadata": {
    "id": "6W7kJKinyykt"
   },
   "outputs": [],
   "source": [
    "class Player: # get name, return hand, set the hand\n",
    "\n",
    "    def __init__(self, name):\n",
    "        self.name = name\n",
    "        self.hand = Hand()\n",
    "\n",
    "    def get_name(self):\n",
    "        return self.name\n",
    "\n",
    "    def get_hand(self):\n",
    "        return self.hand\n",
    "\n",
    "    def set_hand(self, hand):\n",
    "        self.hand = hand\n",
    "\n",
    "class Dealer(Player):\n",
    "    def __init__(self):\n",
    "        super().__init__(\"Dealer\") # from players\n",
    "\n",
    "    def play(self, deck): # dealer's play (17 or more = stand, if less = draw)\n",
    "        while self.hand_value < 17:\n",
    "            card = deck.draw()\n",
    "            if card is not None:\n",
    "                self.hand.add_card(card)\n",
    "\n",
    "    def hand_value(self):\n",
    "        value = 0\n",
    "        aces = 0\n",
    "\n",
    "        for card in self.hand.get_cards():\n",
    "            if card.value in [\"Jack\", \"Queen\", \"King\"]:\n",
    "                value += 10\n",
    "            elif card.value == \"Ace\":\n",
    "                aces += 1\n",
    "                value += 11\n",
    "            else:\n",
    "                value += int(card.value)\n",
    "\n",
    "        while value > 21 and aces > 0: # if ace(s) in hand\n",
    "            value -= 10\n",
    "            aces -= 1\n",
    "\n",
    "        return value"
   ]
  },
  {
   "cell_type": "markdown",
   "metadata": {
    "id": "QvPs7wjGyMGQ"
   },
   "source": [
    "5.  Test. Demonstrate game play. For example, create a game of several dealer players and show that the game is functional through several rounds."
   ]
  },
  {
   "cell_type": "code",
   "execution_count": 2,
   "metadata": {
    "id": "i0HO4GqN0WMu"
   },
   "outputs": [],
   "source": [
    "import random\n",
    "\n",
    "class Card:\n",
    "    def __init__(self, suit, value):\n",
    "        self.suit = suit\n",
    "        self.value = value\n",
    "\n",
    "    def __repr__(self):\n",
    "        return f\"{self.value} of {self.suit}\"\n",
    "\n",
    "class Deck:\n",
    "    def __init__(self, num_decks=1):\n",
    "        self.num_decks = num_decks\n",
    "        self.cards = []\n",
    "        self.plastic_card = None\n",
    "        self.generate_deck()\n",
    "\n",
    "    def generate_deck(self): # generate deck\n",
    "        suits = ['Clubs', 'Diamonds', 'Hearts', 'Spades']\n",
    "        values = ['2','3','4','5','6','7','8','9','10', 'Jack', 'Queen', 'King', 'Ace']\n",
    "\n",
    "        for deck in range(self.num_decks):\n",
    "            for suit in suits:\n",
    "                for value in values:\n",
    "                    self.cards.append(Card(suit, value))\n",
    "\n",
    "        self.plastic_card = random.choice(self.cards) # card in deck as plastic card\n",
    "\n",
    "    def shuffle_deck(self): # shuffle deck\n",
    "        random.shuffle(self.cards)\n",
    "\n",
    "    def draw(self):\n",
    "        if len(self.cards) == 0:\n",
    "            print(\"The deck is empty.\")\n",
    "            return None\n",
    "        drawn_card = self.cards[0] # get from top of deck\n",
    "        self.cards = self.cards[1:] # remove card from deck, update deck\n",
    "        return drawn_card\n",
    "\n",
    "    def deal(self, num_cards):\n",
    "        hand = []\n",
    "        for card in range(num_cards):\n",
    "            card = self.draw()\n",
    "            if card is not None:\n",
    "                hand.append(card) # add card to hand\n",
    "        return hand\n",
    "\n",
    "    def check_plastic_card(self, card):\n",
    "        return card == self.plastic_card # see if card is 'plastic card'\n",
    "\n",
    "    def reset(self): # generate new deck & shuffle\n",
    "        self.cards.append(self.plastic_card)\n",
    "        self.generate_deck()\n",
    "        self.shuffle_deck()\n",
    "\n",
    "class Hand:\n",
    "    def __init__(self):\n",
    "        self.cards = []\n",
    "\n",
    "    def add_card(self, card):\n",
    "        self.cards.append(card)\n",
    "\n",
    "    def remove_card(self, card):\n",
    "        self.cards.remove(card)\n",
    "\n",
    "    def get_cards(self):\n",
    "        return self.cards\n",
    "\n",
    "class Player:\n",
    "    def __init__(self, name):\n",
    "        self.name = name\n",
    "        self.hand = Hand()\n",
    "\n",
    "    def get_name(self):\n",
    "        return self.name\n",
    "\n",
    "    def get_hand(self):\n",
    "        return self.hand\n",
    "\n",
    "    def set_hand(self, hand):\n",
    "        self.hand = hand\n",
    "\n",
    "class Dealer(Player):\n",
    "    def __init__(self):\n",
    "        super().__init__(\"Dealer\") # from Player\n",
    "\n",
    "    def play(self, deck):\n",
    "        while self.hand_value() < 17: # dealer's play (17 or more = stand, if less = draw)\n",
    "\n",
    "            card = deck.draw()\n",
    "            if card is not None:\n",
    "                self.hand.add_card(card)\n",
    "            else:\n",
    "                print(\"Deck is empty. Unable to draw a card.\")\n",
    "                break\n",
    "\n",
    "    def hand_value(self):\n",
    "        value = 0\n",
    "        num_aces = 0\n",
    "\n",
    "        for card in self.hand.get_cards():\n",
    "            if card.value in [\"Jack\", \"Queen\", \"King\"]:\n",
    "                value += 10\n",
    "            elif card.value == \"Ace\":\n",
    "                num_aces += 1\n",
    "                value += 11\n",
    "            else:\n",
    "                value += int(card.value)\n",
    "\n",
    "        while value > 21 and num_aces > 0: # if ace(s) in hand\n",
    "            value -= 10\n",
    "            num_aces -= 1\n",
    "\n",
    "        return value\n",
    "\n",
    "class Play_game:\n",
    "    def __init__(self):\n",
    "        self.deck = Deck()\n",
    "        self.players = []\n",
    "\n",
    "    def start_game(self):    # shuffle deck beginning of game\n",
    "        self.deck.shuffle_deck()\n",
    "\n",
    "    def add_player(self, player): # add player to game\n",
    "        self.players.append(player)\n",
    "\n",
    "    def play_round(self):  # 2 cards to ea. player & dealer\n",
    "        for _ in range(2):\n",
    "            for player in self.players + [self.players[0]]:\n",
    "                player.hand.add_card(self.deck.draw())\n",
    "\n",
    "\n",
    "        print(\"Dealer Hand:\", self.players[0].hand.get_cards()[0], \"*\")  # print dealer & player hands\n",
    "        print(\"\\nPlayer Hand:\", \", \".join(str(card) for card in self.players[1].hand.get_cards()))\n",
    "\n",
    "\n",
    "        while True: # let player to hit or stand\n",
    "            choice = input(\"Hit or Stand?: \").lower()\n",
    "\n",
    "            if choice == 'hit': # let player to hit or stand\n",
    "                self.players[1].hand.add_card(self.deck.draw())\n",
    "                print(\"\\nPlayer Hand:\", \", \".join(str(card) for card in self.players[1].hand.get_cards()))\n",
    "\n",
    "                if self.hand_value(self.players[1]) > 21: # see if the player has busted\n",
    "                    print(\"Player busted!\")\n",
    "                    break\n",
    "\n",
    "            elif choice == 'stand': # if chosen stand, then dealer's turn\n",
    "                break\n",
    "\n",
    "            else:\n",
    "                print(\"ERROR! Try again.\")\n",
    "\n",
    "\n",
    "        self.players[0].play(self.deck) # dealer & print out the final hands\n",
    "        print(\"Dealer Hand:\", \", \".join(str(card) for card in self.players[0].hand.get_cards()))\n",
    "\n",
    "\n",
    "\n",
    "        player_score = self.hand_value(self.players[1]) # determine winner\n",
    "        dealer_score = self.hand_value(self.players[0])\n",
    "\n",
    "\n",
    "        if player_score > 21:\n",
    "            print(\"Dealer wins!\")\n",
    "        elif dealer_score > 21 or player_score > dealer_score:\n",
    "            print(\"Player wins!\")\n",
    "        elif player_score < dealer_score:\n",
    "            print(\"Dealer wins!\")\n",
    "        else:\n",
    "            print(\"It's a tie!\")\n",
    "\n",
    "    def hand_value(self, player): # find sum value of cards in player hand\n",
    "        value = 0\n",
    "        num_aces = 0\n",
    "\n",
    "        for card in player.hand.get_cards():\n",
    "            if card.value in [\"Jack\", \"Queen\", \"King\"]:\n",
    "                value += 10\n",
    "\n",
    "            elif card.value == \"Ace\":\n",
    "                num_aces += 1\n",
    "                value += 11\n",
    "\n",
    "            else:\n",
    "                value += int(card.value)\n",
    "\n",
    "        while value > 21 and num_aces > 0:\n",
    "            value -= 10\n",
    "            num_aces -= 1\n",
    "\n",
    "        return value"
   ]
  },
  {
   "cell_type": "code",
   "execution_count": 3,
   "metadata": {
    "colab": {
     "base_uri": "https://localhost:8080/"
    },
    "id": "jHrK3oVG0cMn",
    "outputId": "b46ea60c-b340-4623-ecdd-ab5421f26e65"
   },
   "outputs": [
    {
     "name": "stdout",
     "output_type": "stream",
     "text": [
      "\n",
      "Round 1\n",
      "Dealer Hand: 5 of Hearts *\n",
      "\n",
      "Player Hand: 10 of Spades, 10 of Clubs\n",
      "Hit or Stand?: stand\n",
      "Dealer Hand: 5 of Hearts, 2 of Spades, 6 of Diamonds, 5 of Clubs\n",
      "Player wins!\n",
      "\n",
      "Round 2\n",
      "Dealer Hand: 5 of Hearts *\n",
      "\n",
      "Player Hand: 10 of Spades, 10 of Clubs, Ace of Diamonds, 5 of Diamonds\n",
      "Hit or Stand?: stand\n",
      "Dealer Hand: 5 of Hearts, 2 of Spades, 6 of Diamonds, 5 of Clubs, Jack of Clubs, 4 of Spades, 3 of Clubs, 2 of Spades\n",
      "Dealer wins!\n",
      "\n",
      "Round 3\n",
      "Dealer Hand: 5 of Hearts *\n",
      "\n",
      "Player Hand: 10 of Spades, 10 of Clubs, Ace of Diamonds, 5 of Diamonds, 4 of Hearts, 3 of Hearts\n",
      "Hit or Stand?: stand\n",
      "Dealer Hand: 5 of Hearts, 2 of Spades, 6 of Diamonds, 5 of Clubs, Jack of Clubs, 4 of Spades, 3 of Clubs, 2 of Spades, Jack of Spades, 4 of Hearts, Queen of Diamonds, 3 of Spades\n",
      "Dealer wins!\n"
     ]
    }
   ],
   "source": [
    "# test game w/ me\n",
    "test_game = Play_game()\n",
    "test_game.add_player(Dealer())\n",
    "test_game.add_player(Player(\"Dar\"))\n",
    "\n",
    "test_game.start_game()\n",
    "rounds = 3\n",
    "\n",
    "\n",
    "for i in range(rounds):\n",
    "    print(\"\\nRound\", i+1)\n",
    "    test_game.play_round()\n",
    "    test_game.deck.reset()\n"
   ]
  },
  {
   "cell_type": "markdown",
   "metadata": {
    "id": "7E-gxhWoyMGQ"
   },
   "source": [
    "6. Implement a new player with the following strategy:\n",
    "\n",
    "    * Assign each card a value:\n",
    "        * Cards 2 to 6 are +1\n",
    "        * Cards 7 to 9 are 0\n",
    "        * Cards 10 through Ace are -1\n",
    "    * Compute the sum of the values for all cards seen so far.\n",
    "    * Hit if sum is very negative, stay if sum is very positive. Select a threshold for hit/stay, e.g. 0 or -2.  "
   ]
  },
  {
   "cell_type": "code",
   "execution_count": 4,
   "metadata": {
    "id": "trhJFSaQp3P8"
   },
   "outputs": [],
   "source": [
    "class PlayerWithStrategy:\n",
    "    def __init__(self, name, hit_threshold=-2): # inplace threshold to hit or stay\n",
    "        self.name = name\n",
    "        self.hand = Hand()\n",
    "        self.hit_threshold = hit_threshold\n",
    "\n",
    "    def get_card_value(self, card): # new card values\n",
    "        if \"2\" <= card.value <= \"6\":\n",
    "            return 1\n",
    "        elif \"7\" <= card.value <= \"9\":\n",
    "            return 0\n",
    "        else:\n",
    "            return -1\n",
    "\n",
    "    def hand_value(self): # sum the values of card in hand\n",
    "        return sum(self.get_card_value(card) for card in self.hand.get_cards())"
   ]
  },
  {
   "cell_type": "code",
   "execution_count": 5,
   "metadata": {
    "colab": {
     "base_uri": "https://localhost:8080/"
    },
    "id": "WbUryjmZqIsg",
    "outputId": "ddb23065-ed8d-4c87-9bd9-a8426bcda597"
   },
   "outputs": [
    {
     "name": "stdout",
     "output_type": "stream",
     "text": [
      "Player Player 1 initial hand value: 0\n",
      "Final hand value: 0\n"
     ]
    }
   ],
   "source": [
    "deck = Deck()\n",
    "deck.shuffle_deck()\n",
    "\n",
    "player = PlayerWithStrategy(\"Player 1\", hit_threshold=-5)\n",
    "\n",
    "print(f\"Player {player.name} initial hand value: {player.hand_value()}\") # initial hand value Player 1 (shoulf be 0)\n",
    "\n",
    "while player.hand_value() < player.hit_threshold: # loop player draw cards til value goes more than threshold\n",
    "    player.play(deck)\n",
    "\n",
    "print(f\"Final hand value: {player.hand_value()}\")"
   ]
  },
  {
   "cell_type": "markdown",
   "metadata": {
    "id": "vYZw_lrJyMGQ"
   },
   "source": [
    "7. Create a test scenario where one player, using the above strategy, is playing with a dealer and 3 other players that follow the dealer's strategy. Each player starts with same number of chips. Play 50 rounds (or until the strategy player is out of money). Compute the strategy player's winnings. You may remove unnecessary printouts from your code (perhaps implement a verbose/quiet mode) to reduce the output."
   ]
  },
  {
   "cell_type": "code",
   "execution_count": null,
   "metadata": {
    "id": "V6bLJzoK-DxL"
   },
   "outputs": [],
   "source": []
  },
  {
   "cell_type": "markdown",
   "metadata": {
    "id": "Vc4z-xRTyMGR"
   },
   "source": [
    "8. Create a loop that runs 100 games of 50 rounds, as setup in previous question, and store the strategy player's chips at the end of the game (aka \"winnings\") in a list. Histogram the winnings. What is the average winnings per round? What is the standard deviation. What is the probabilty of net winning or lossing after 50 rounds?\n"
   ]
  },
  {
   "cell_type": "markdown",
   "metadata": {
    "id": "4qh-5PZiyMGR"
   },
   "source": [
    "9. Repeat previous questions scanning the value of the threshold. Try at least 5 different threshold values. Can you find an optimal value?"
   ]
  },
  {
   "cell_type": "markdown",
   "metadata": {
    "id": "GCafGveWyMGR"
   },
   "source": [
    "10. Create a new strategy based on web searches or your own ideas. Demonstrate that the new strategy will result in increased or decreased winnings."
   ]
  }
 ],
 "metadata": {
  "colab": {
   "provenance": []
  },
  "kernelspec": {
   "display_name": "Python 3 (ipykernel)",
   "language": "python",
   "name": "python3"
  },
  "language_info": {
   "codemirror_mode": {
    "name": "ipython",
    "version": 3
   },
   "file_extension": ".py",
   "mimetype": "text/x-python",
   "name": "python",
   "nbconvert_exporter": "python",
   "pygments_lexer": "ipython3",
   "version": "3.11.5"
  }
 },
 "nbformat": 4,
 "nbformat_minor": 1
}
