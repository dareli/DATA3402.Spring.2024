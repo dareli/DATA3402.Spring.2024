{
 "cells": [
  {
   "cell_type": "markdown",
   "metadata": {},
   "source": [
    "## Lab 2- Tic Tac Toe\n",
    "\n",
    "In this lab your will build a n x n Tic Tac Toe game. As you do the exercises, make sure your solutions work for any size Tic Tac Toe game. "
   ]
  },
  {
   "cell_type": "markdown",
   "metadata": {},
   "source": [
    "*Exercise 1:* Write a function that creates an n by n matrix (of list of lists) which will represent the state of a Tie Tac Toe game. Let 0, 1, and 2 represent empty, \"X\", and \"O\", respectively.\n"
   ]
  },
  {
   "cell_type": "code",
   "execution_count": 1,
   "metadata": {},
   "outputs": [],
   "source": [
    "# Write you solution here\n",
    "player_1=\"X\"\n",
    "player_2=\"O\"\n",
    "empty= \" \"\n",
    "\n",
    "def make_gameboard(size):\n",
    "    board=[[empty]*size for i in range(size)]\n",
    "    \n",
    "    #even cols\n",
    "    for i in range(0,size,2):\n",
    "        board[1][i]=player_1\n",
    "        board[-1][i]=player_2\n",
    "        board[-3][i]=player_2\n",
    "        \n",
    "    # odd cols\n",
    "    for i in range(1,size,2):\n",
    "        board[0][i]=player_1\n",
    "        board[2][i]=player_1\n",
    "        board[-2][i]=player_2\n",
    "    \n",
    "    return board"
   ]
  },
  {
   "cell_type": "code",
   "execution_count": 2,
   "metadata": {},
   "outputs": [
    {
     "name": "stdout",
     "output_type": "stream",
     "text": [
      "Enter in a number representing n: 3\n"
     ]
    },
    {
     "data": {
      "text/plain": [
       "[['O', 'X', 'O'], ['X', 'O', 'X'], ['O', 'X', 'O']]"
      ]
     },
     "execution_count": 2,
     "metadata": {},
     "output_type": "execute_result"
    }
   ],
   "source": [
    "#Test your solution here\n",
    "size = int(input ('Enter in a number representing n: '))\n",
    "board_0=make_gameboard(size)\n",
    "board_0"
   ]
  },
  {
   "cell_type": "markdown",
   "metadata": {},
   "source": [
    "*Exercise 2:* Write a function that takes 2 integers `n` and `m` as input and draws a `n` by `m` game board. For example the following is a 3x3 board:\n",
    "```\n",
    "   --- --- --- \n",
    "  |   |   |   | \n",
    "   --- --- ---  \n",
    "  |   |   |   | \n",
    "   --- --- ---  \n",
    "  |   |   |   | \n",
    "   --- --- --- \n",
    "   ```"
   ]
  },
  {
   "cell_type": "code",
   "execution_count": 3,
   "metadata": {},
   "outputs": [],
   "source": [
    "# Write you solution here\n",
    "def draw_gameboard(n,m):\n",
    "    board = []\n",
    "    for i in range(m):\n",
    "        board.append([empty] * n)\n",
    "    return board"
   ]
  },
  {
   "cell_type": "code",
   "execution_count": 4,
   "metadata": {},
   "outputs": [
    {
     "name": "stdout",
     "output_type": "stream",
     "text": [
      "How many rows do you want your tic tac toe game? 6\n",
      "How many columns do you want your tic tac toe game? 7\n",
      "\n",
      "Here is your tic tac toe board: \n"
     ]
    },
    {
     "data": {
      "text/plain": [
       "[[' ', ' ', ' ', ' ', ' ', ' '],\n",
       " [' ', ' ', ' ', ' ', ' ', ' '],\n",
       " [' ', ' ', ' ', ' ', ' ', ' '],\n",
       " [' ', ' ', ' ', ' ', ' ', ' '],\n",
       " [' ', ' ', ' ', ' ', ' ', ' '],\n",
       " [' ', ' ', ' ', ' ', ' ', ' '],\n",
       " [' ', ' ', ' ', ' ', ' ', ' ']]"
      ]
     },
     "execution_count": 4,
     "metadata": {},
     "output_type": "execute_result"
    }
   ],
   "source": [
    "# Test your solution here\n",
    "n = int(input(\"How many rows do you want your tic tac toe game? \"))\n",
    "m = int(input(\"How many columns do you want your tic tac toe game? \"))\n",
    "\n",
    "print(\"\\nHere is your tic tac toe board: \")\n",
    "\n",
    "draw_gameboard(n,m)"
   ]
  },
  {
   "cell_type": "markdown",
   "metadata": {},
   "source": [
    "*Exercise 3:* Modify exercise 2, so that it takes a matrix of the form from exercise 1 and draws a tic-tac-tie board with \"X\"s and \"O\"s.  "
   ]
  },
  {
   "cell_type": "code",
   "execution_count": 5,
   "metadata": {},
   "outputs": [],
   "source": [
    "# Write you solution here\n",
    "player_1_piece=\"X\"\n",
    "player_2_piece=\"O\"\n",
    "empty_space=\" \"\n",
    "\n",
    "\n",
    "def space_character(player):\n",
    "    if player==player_1:\n",
    "        return player_1_piece\n",
    "    elif player==player_2:\n",
    "        return player_2_piece\n",
    "    else:\n",
    "        return empty_space\n",
    "    \n",
    "# make into a dictionary    \n",
    "space_character= { player_1: player_1_piece,\n",
    "                   player_2: player_2_piece,\n",
    "                   empty: empty_space }\n",
    "\n",
    "def make_board(board):\n",
    "    for i in range(size):\n",
    "        for j in range(size):\n",
    "            print(space_character[board[i][j]],end=\" \")\n",
    "        print()"
   ]
  },
  {
   "cell_type": "code",
   "execution_count": 6,
   "metadata": {},
   "outputs": [
    {
     "name": "stdout",
     "output_type": "stream",
     "text": [
      "O X O \n",
      "X O X \n",
      "O X O \n"
     ]
    }
   ],
   "source": [
    "make_board(board_0)"
   ]
  },
  {
   "cell_type": "markdown",
   "metadata": {},
   "source": [
    "*Exercise 4:* Write a function that takes a `n` by `n` matrix representing a tic-tac-toe game, and returns -1, 0, 1, or 2 indicating the game is incomplete, the game is a draw, player 1 has won, or player 2 has one, respectively. Here are some example inputs you can use to test your code:"
   ]
  },
  {
   "cell_type": "code",
   "execution_count": 7,
   "metadata": {},
   "outputs": [],
   "source": [
    "# Write you solution here\n",
    "def check_game(matrix):\n",
    "    n = len(matrix)\n",
    "    \n",
    "    # check on all items\n",
    "    for i in range(n):\n",
    "        # rows\n",
    "        if all(matrix[i][j] == 1 for j in range(n)): \n",
    "            return 1\n",
    "        if all(matrix[i][j] == 2 for j in range(n)):\n",
    "            return 2\n",
    "        \n",
    "        # cols\n",
    "        if all(matrix[j][i] == 1 for j in range(n)):\n",
    "            return 1\n",
    "        if all(matrix[j][i] == 2 for j in range(n)):\n",
    "            return 2\n",
    "        \n",
    "    # diagonal\n",
    "    if all(matrix[i][i] == 1 for i in range(n)):\n",
    "        return 1\n",
    "    if all(matrix[i][i] == 2 for i in range(n)):\n",
    "        return 2\n",
    "    \n",
    "    # anti-diagonal\n",
    "    if all(matrix[i][n-i-1] == 1 for i in range(n)):\n",
    "        return 1\n",
    "    if all(matrix[i][n-i-1] == 2 for i in range(n)):\n",
    "        return 2\n",
    "    \n",
    "    # when game not done\n",
    "    for row in matrix:\n",
    "        for cell in row:\n",
    "            if cell == 0:\n",
    "                return -1\n",
    "    \n",
    "    # when game is a draw\n",
    "    return 0\n",
    "\n",
    "# example inputs\n",
    "winner_is_2 = [[2, 2, 0],\n",
    "\t[2, 1, 0],\n",
    "\t[2, 1, 1]]\n",
    "\n",
    "winner_is_1 = [[1, 2, 0],\n",
    "\t[2, 1, 0],\n",
    "\t[2, 1, 1]]\n",
    "\n",
    "winner_is_also_1 = [[0, 1, 0],\n",
    "\t[2, 1, 0],\n",
    "\t[2, 1, 1]]\n",
    "\n",
    "no_winner = [[1, 2, 0],\n",
    "\t[2, 1, 0],\n",
    "\t[2, 1, 2]]\n",
    "\n",
    "also_no_winner = [[1, 2, 0],\n",
    "\t[2, 1, 0],\n",
    "\t[2, 1, 0]]"
   ]
  },
  {
   "cell_type": "code",
   "execution_count": 8,
   "metadata": {},
   "outputs": [
    {
     "name": "stdout",
     "output_type": "stream",
     "text": [
      "Testing example inputs: \n",
      "\n",
      "Player 2 WINS! :  2\n",
      "Player 1 WINS! :  1\n",
      "Player 1 WINS! :  1\n",
      "NO WINNER! :  -1\n"
     ]
    }
   ],
   "source": [
    "# Test your solution here\n",
    "print('Testing example inputs: \\n')\n",
    "print('Player 2 WINS! : ', check_game(winner_is_2)) \n",
    "print('Player 1 WINS! : ', check_game(winner_is_1))  \n",
    "print('Player 1 WINS! : ', check_game(winner_is_also_1))  \n",
    "print('NO WINNER! : ', check_game(also_no_winner)) "
   ]
  },
  {
   "cell_type": "markdown",
   "metadata": {},
   "source": [
    "Exercise 5: Write a function that takes a game board, player number, and (x,y) coordinates and places \"X\" or \"O\" in the correct location of the game board. Make sure that you only allow filling previously empty locations. Return True or False to indicate successful placement of \"X\" or \"O\"."
   ]
  },
  {
   "cell_type": "code",
   "execution_count": 9,
   "metadata": {},
   "outputs": [],
   "source": [
    "# Write you solution here\n",
    "def coord_loc(matrix, player_number, x, y):\n",
    "    if matrix[x][y] != 0:\n",
    "        return False\n",
    "    \n",
    "    elif player_number == 1 or 2:\n",
    "        matrix[x][y]= 1 or 2\n",
    "        return True"
   ]
  },
  {
   "cell_type": "code",
   "execution_count": 10,
   "metadata": {},
   "outputs": [
    {
     "name": "stdout",
     "output_type": "stream",
     "text": [
      "Checking winner for 1 \n",
      " Is it at the correct location?  False\n",
      "\n",
      " \n",
      "Checking winner for 2 \n",
      " Is it at the correct location?  True\n"
     ]
    }
   ],
   "source": [
    "# Test your solution here\n",
    "# from example inputs to test\n",
    "winner_is_also_1 = [\n",
    "    [0, 1, 0],\n",
    "    [2, 1, 0],\n",
    "    [2, 1, 1]\n",
    "]\n",
    "\n",
    "check = coord_loc(winner_is_also_1, 1, 1, 1) # should be false\n",
    "print(\"Checking winner for 1 \\n Is it at the correct location? \", check)\n",
    "\n",
    "winner_is_2 = [[2, 2, 0],\n",
    "\t[2, 1, 0],\n",
    "\t[2, 1, 1]]\n",
    "\n",
    "check2 = coord_loc(winner_is_2, 2, 1, 2) # should be true\n",
    "print(\"\\n \\nChecking winner for 2 \\n Is it at the correct location? \", check2)"
   ]
  },
  {
   "cell_type": "markdown",
   "metadata": {},
   "source": [
    "*Exercise 6:* Modify Exercise 4 to show column and row labels so that players can specify location using \"A2\" or \"C1\"."
   ]
  },
  {
   "cell_type": "code",
   "execution_count": 11,
   "metadata": {},
   "outputs": [],
   "source": [
    "# Write you solution here\n",
    "row_names=list(\"ABCDEFGHIJKLMNOPQRSTUVWXYZ\")\n",
    "row_map=dict(zip(row_names,range(size)))\n",
    "\n",
    "column_names=list(map(str,range(1,size+1)))\n",
    "column_map=dict(zip(column_names,range(size)))\n",
    "\n",
    "def location_board(board):\n",
    "    size = len(board)\n",
    "    row_names=list(\"ABCDEFGHIJKLMNOPQRSTUVWXYZ\")\n",
    "    column_names=list(map(str,range(1,size+1)))\n",
    "    print(\" \")\n",
    "    \n",
    "    print(\" \",end=\" \")\n",
    "    for j in range(size):\n",
    "        print(column_names[j],end=\" \")\n",
    "    print()\n",
    "    \n",
    "    for i in range(size):\n",
    "        print(row_names[i],end=\" \")\n",
    "        for j in range(size):\n",
    "            print(space_character[board[i][j]],end=\" \")\n",
    "        print()\n",
    "\n",
    "# check specific location        \n",
    "def specific_loc(l_string):\n",
    "    if not isinstance(l_string,str):\n",
    "        print_message(\"Incorrect Input. Location is 2 characters\")\n",
    "        return False\n",
    "    \n",
    "    if len(l_string)!=2:\n",
    "        print_message(\"Incorrect Input. Location is 2 characters\")\n",
    "        return False\n",
    "    \n",
    "    row=l_string[0].upper()\n",
    "    col=l_string[1].upper()\n",
    "    \n",
    "    if not row in row_names:\n",
    "        print_message(\"Bad Row.\")\n",
    "        return False\n",
    "\n",
    "    if not col in column_names:\n",
    "        print_message(\"Bad Column.\")\n",
    "        return False\n",
    "\n",
    "    return row_map[row],column_map[col]"
   ]
  },
  {
   "cell_type": "code",
   "execution_count": 12,
   "metadata": {},
   "outputs": [
    {
     "name": "stdout",
     "output_type": "stream",
     "text": [
      " \n",
      "  1 2 3 \n",
      "A O X O \n",
      "B X O X \n",
      "C O X O \n",
      "\n",
      "Enter in a location: B2\n",
      "Location of your entered location: (1, 1)\n"
     ]
    }
   ],
   "source": [
    "# Test your solution here\n",
    "\n",
    "# test to print board using a example \n",
    "location_board(board_0)\n",
    "\n",
    "# test to check specific location\n",
    "get_loc = input(\"\\nEnter in a location: \")\n",
    "print(\"Location of your entered location:\", specific_loc(get_loc))"
   ]
  },
  {
   "cell_type": "markdown",
   "metadata": {},
   "source": [
    "*Exercise 7:* Write a function that takes a board, player number, and location specified as in exercise 6 and then calls exercise 5 to correctly modify the board.  "
   ]
  },
  {
   "cell_type": "code",
   "execution_count": 13,
   "metadata": {},
   "outputs": [],
   "source": [
    "# Write you solution here\n",
    "def mod_board(board, player_number, location):\n",
    "    cols = row_map\n",
    "    rows = column_map\n",
    "    \n",
    "    if len(location) != 2:\n",
    "        print(\"Location not on board\")\n",
    "        return False\n",
    "    \n",
    "    elif location[0] not in cols or location not in rows:\n",
    "        print(\"Invalid move\") \n",
    "        return False \n",
    "    \n",
    "    x = rows[location[1]]\n",
    "    y = columns[location[0]]\n",
    "    \n",
    "    return coord_loc(matrix, player_number, x, y) # call q5"
   ]
  },
  {
   "cell_type": "code",
   "execution_count": 14,
   "metadata": {},
   "outputs": [
    {
     "name": "stdout",
     "output_type": "stream",
     "text": [
      " \n",
      "  1 2 3 \n",
      "A O X O \n",
      "B X O X \n",
      "C O X O \n",
      "Invalid move\n"
     ]
    },
    {
     "data": {
      "text/plain": [
       "False"
      ]
     },
     "execution_count": 14,
     "metadata": {},
     "output_type": "execute_result"
    }
   ],
   "source": [
    "# Test your solution here\n",
    "location_board(board_0)\n",
    "mod_board(board_0,1, 'B3')"
   ]
  },
  {
   "cell_type": "markdown",
   "metadata": {},
   "source": [
    "*Exercise 8:* Write a function is called with a board and player number, takes input from the player using python's `input`, and modifies the board using your function from exercise 7. Note that you should keep asking for input until you have gotten a valid input that results in a valid move."
   ]
  },
  {
   "cell_type": "code",
   "execution_count": 15,
   "metadata": {},
   "outputs": [],
   "source": [
    "# Write you solution here\n",
    "\n",
    "# new func for board with row & col labeled\n",
    "def print_board(board):\n",
    "    # column\n",
    "    print(\"  \" + \" \".join(str(i) for i in range(1, len(board) + 1)))\n",
    "    rows = list(\"ABCDEFGHIJKLMNOPQRSTUVWXYZ\")\n",
    "    for i, row in enumerate(board):\n",
    "        # row\n",
    "        print(rows[i] + \" \" + \" \".join(['X' if cell == 1 else 'O' if cell == 2 else ' ' for cell in row]))\n",
    "\n",
    "def player_move(board, player_number):\n",
    "    while True:\n",
    "        location = input(f\"Player {player_number}, enter your move: \").upper()\n",
    "\n",
    "        if len(location) != 2:\n",
    "            print(\"Invalid move format. Enter a letter followed by a number (e.g., 'A1').\")\n",
    "            continue\n",
    "\n",
    "        row = ord(location[0]) - ord('A')\n",
    "        col = int(location[1:]) - 1\n",
    "\n",
    "        if row < 0 or row >= len(board) or col < 0 or col >= len(board):\n",
    "            print(\"Not on board. Enter a valid location.\")\n",
    "            continue\n",
    "\n",
    "        if board[row][col] == 0:\n",
    "            board[row][col] = player_number\n",
    "            break\n",
    "        else:\n",
    "            print(\"Already occupied. Choose another location.\")"
   ]
  },
  {
   "cell_type": "code",
   "execution_count": 16,
   "metadata": {},
   "outputs": [
    {
     "name": "stdout",
     "output_type": "stream",
     "text": [
      "Player 1, enter your move: B2\n"
     ]
    }
   ],
   "source": [
    "# Test your solution here\n",
    "size = 3\n",
    "matrix = [[0]*size for _ in range(size)]\n",
    "player_number = 1\n",
    "player_move(matrix, player_number)"
   ]
  },
  {
   "cell_type": "markdown",
   "metadata": {},
   "source": [
    "*Exercise 9:* Use all of the previous exercises to implement a full tic-tac-toe game, where an appropriate board is drawn, 2 players are repeatedly asked for a location coordinates of where they wish to place a mark, and the game status is checked until a player wins or a draw occurs."
   ]
  },
  {
   "cell_type": "code",
   "execution_count": 17,
   "metadata": {},
   "outputs": [],
   "source": [
    "# Write you solution here\n",
    "def tic_tac_toe():\n",
    "    size = 3\n",
    "    board = [[0]*size for _ in range(size)]\n",
    "    print(\"Welcome to Tic-Tac-Toe!\\n\")\n",
    "    print_board(board)\n",
    "\n",
    "    player = 1\n",
    "    while True:\n",
    "        player_move(board, player)\n",
    "        print_board(board)\n",
    "        game_result = check_game(board)\n",
    "        if game_result == 1:\n",
    "            print(\"Player 1 wins!\")\n",
    "            break\n",
    "        elif game_result == 2:\n",
    "            print(\"Player 2 wins!\")\n",
    "            break\n",
    "        elif game_result == 0:\n",
    "            print(\"It's a draw!\")\n",
    "            break\n",
    "        player = 2 if player == 1 else 1"
   ]
  },
  {
   "cell_type": "code",
   "execution_count": 18,
   "metadata": {},
   "outputs": [
    {
     "name": "stdout",
     "output_type": "stream",
     "text": [
      "Welcome to Tic-Tac-Toe!\n",
      "\n",
      "  1 2 3\n",
      "A      \n",
      "B      \n",
      "C      \n",
      "Player 1, enter your move: B2\n",
      "  1 2 3\n",
      "A      \n",
      "B   X  \n",
      "C      \n",
      "Player 2, enter your move: A1\n",
      "  1 2 3\n",
      "A O    \n",
      "B   X  \n",
      "C      \n",
      "Player 1, enter your move: A2\n",
      "  1 2 3\n",
      "A O X  \n",
      "B   X  \n",
      "C      \n",
      "Player 2, enter your move: C2\n",
      "  1 2 3\n",
      "A O X  \n",
      "B   X  \n",
      "C   O  \n",
      "Player 1, enter your move: A3\n",
      "  1 2 3\n",
      "A O X X\n",
      "B   X  \n",
      "C   O  \n",
      "Player 2, enter your move: C1\n",
      "  1 2 3\n",
      "A O X X\n",
      "B   X  \n",
      "C O O  \n",
      "Player 1, enter your move: B1\n",
      "  1 2 3\n",
      "A O X X\n",
      "B X X  \n",
      "C O O  \n",
      "Player 2, enter your move: B3\n",
      "  1 2 3\n",
      "A O X X\n",
      "B X X O\n",
      "C O O  \n",
      "Player 1, enter your move: C3\n",
      "  1 2 3\n",
      "A O X X\n",
      "B X X O\n",
      "C O O X\n",
      "It's a draw!\n"
     ]
    }
   ],
   "source": [
    "# Test your solution here\n",
    "tic_tac_toe()"
   ]
  },
  {
   "cell_type": "markdown",
   "metadata": {},
   "source": [
    "*Exercise 10:* Test that your game works for 5x5 Tic Tac Toe.  "
   ]
  },
  {
   "cell_type": "code",
   "execution_count": 19,
   "metadata": {},
   "outputs": [
    {
     "name": "stdout",
     "output_type": "stream",
     "text": [
      "Welcome to Tic-Tac-Toe!\n",
      "\n",
      "  1 2 3 4 5\n",
      "A          \n",
      "B          \n",
      "C          \n",
      "D          \n",
      "E          \n",
      "Player 1, enter your move: C3\n",
      "  1 2 3 4 5\n",
      "A          \n",
      "B          \n",
      "C     X    \n",
      "D          \n",
      "E          \n",
      "Player 2, enter your move: A1\n",
      "  1 2 3 4 5\n",
      "A O        \n",
      "B          \n",
      "C     X    \n",
      "D          \n",
      "E          \n",
      "Player 1, enter your move: A2\n",
      "  1 2 3 4 5\n",
      "A O X      \n",
      "B          \n",
      "C     X    \n",
      "D          \n",
      "E          \n",
      "Player 2, enter your move: B1\n",
      "  1 2 3 4 5\n",
      "A O X      \n",
      "B O        \n",
      "C     X    \n",
      "D          \n",
      "E          \n",
      "Player 1, enter your move: C1\n",
      "  1 2 3 4 5\n",
      "A O X      \n",
      "B O        \n",
      "C X   X    \n",
      "D          \n",
      "E          \n",
      "Player 2, enter your move: B2\n",
      "  1 2 3 4 5\n",
      "A O X      \n",
      "B O O      \n",
      "C X   X    \n",
      "D          \n",
      "E          \n",
      "Player 1, enter your move: B3\n",
      "  1 2 3 4 5\n",
      "A O X      \n",
      "B O O X    \n",
      "C X   X    \n",
      "D          \n",
      "E          \n",
      "Player 2, enter your move: A3\n",
      "  1 2 3 4 5\n",
      "A O X O    \n",
      "B O O X    \n",
      "C X   X    \n",
      "D          \n",
      "E          \n",
      "Player 1, enter your move: A5\n",
      "  1 2 3 4 5\n",
      "A O X O   X\n",
      "B O O X    \n",
      "C X   X    \n",
      "D          \n",
      "E          \n",
      "Player 2, enter your move: B5\n",
      "  1 2 3 4 5\n",
      "A O X O   X\n",
      "B O O X   O\n",
      "C X   X    \n",
      "D          \n",
      "E          \n",
      "Player 1, enter your move: C3\n",
      "Already occupied. Choose another location.\n",
      "Player 1, enter your move: C4\n",
      "  1 2 3 4 5\n",
      "A O X O   X\n",
      "B O O X   O\n",
      "C X   X X  \n",
      "D          \n",
      "E          \n",
      "Player 2, enter your move: B4\n",
      "  1 2 3 4 5\n",
      "A O X O   X\n",
      "B O O X O O\n",
      "C X   X X  \n",
      "D          \n",
      "E          \n",
      "Player 1, enter your move: D5\n",
      "  1 2 3 4 5\n",
      "A O X O   X\n",
      "B O O X O O\n",
      "C X   X X  \n",
      "D         X\n",
      "E          \n",
      "Player 2, enter your move: D4\n",
      "  1 2 3 4 5\n",
      "A O X O   X\n",
      "B O O X O O\n",
      "C X   X X  \n",
      "D       O X\n",
      "E          \n",
      "Player 1, enter your move: E1\n",
      "  1 2 3 4 5\n",
      "A O X O   X\n",
      "B O O X O O\n",
      "C X   X X  \n",
      "D       O X\n",
      "E X        \n",
      "Player 2, enter your move: E2\n",
      "  1 2 3 4 5\n",
      "A O X O   X\n",
      "B O O X O O\n",
      "C X   X X  \n",
      "D       O X\n",
      "E X O      \n",
      "Player 1, enter your move: C2\n",
      "  1 2 3 4 5\n",
      "A O X O   X\n",
      "B O O X O O\n",
      "C X X X X  \n",
      "D       O X\n",
      "E X O      \n",
      "Player 2, enter your move: C5\n",
      "  1 2 3 4 5\n",
      "A O X O   X\n",
      "B O O X O O\n",
      "C X X X X O\n",
      "D       O X\n",
      "E X O      \n",
      "Player 1, enter your move: E3\n",
      "  1 2 3 4 5\n",
      "A O X O   X\n",
      "B O O X O O\n",
      "C X X X X O\n",
      "D       O X\n",
      "E X O X    \n",
      "Player 2, enter your move: D1\n",
      "  1 2 3 4 5\n",
      "A O X O   X\n",
      "B O O X O O\n",
      "C X X X X O\n",
      "D O     O X\n",
      "E X O X    \n",
      "Player 1, enter your move: D2\n",
      "  1 2 3 4 5\n",
      "A O X O   X\n",
      "B O O X O O\n",
      "C X X X X O\n",
      "D O X   O X\n",
      "E X O X    \n",
      "Player 2, enter your move: D3\n",
      "  1 2 3 4 5\n",
      "A O X O   X\n",
      "B O O X O O\n",
      "C X X X X O\n",
      "D O X O O X\n",
      "E X O X    \n",
      "Player 1, enter your move: A4\n",
      "  1 2 3 4 5\n",
      "A O X O X X\n",
      "B O O X O O\n",
      "C X X X X O\n",
      "D O X O O X\n",
      "E X O X    \n",
      "Player 2, enter your move: E5\n",
      "  1 2 3 4 5\n",
      "A O X O X X\n",
      "B O O X O O\n",
      "C X X X X O\n",
      "D O X O O X\n",
      "E X O X   O\n",
      "Player 1, enter your move: E4\n",
      "  1 2 3 4 5\n",
      "A O X O X X\n",
      "B O O X O O\n",
      "C X X X X O\n",
      "D O X O O X\n",
      "E X O X X O\n",
      "It's a draw!\n"
     ]
    }
   ],
   "source": [
    "# Test your solution here\n",
    "def tic_tac_toe():\n",
    "    size = 5\n",
    "    board = [[0]*size for _ in range(size)]\n",
    "    print(\"Welcome to Tic-Tac-Toe!\\n\")\n",
    "    print_board(board)\n",
    "\n",
    "    player = 1\n",
    "    while True:\n",
    "        player_move(board, player)\n",
    "        print_board(board)\n",
    "        game_result = check_game(board)\n",
    "        if game_result == 1:\n",
    "            print(\"Player 1 wins!\")\n",
    "            break\n",
    "        elif game_result == 2:\n",
    "            print(\"Player 2 wins!\")\n",
    "            break\n",
    "        elif game_result == 0:\n",
    "            print(\"It's a draw!\")\n",
    "            break\n",
    "        player = 2 if player == 1 else 1\n",
    "\n",
    "tic_tac_toe()"
   ]
  },
  {
   "cell_type": "markdown",
   "metadata": {},
   "source": [
    "*Exercise 11:* (Advanced / Challenge) Develop a version of the game where one player is the computer. Note that you don't need to do an extensive seach for the best move. You can have the computer simply protect against loosing and otherwise try to win with straight or diagonal patterns."
   ]
  },
  {
   "cell_type": "code",
   "execution_count": null,
   "metadata": {
    "collapsed": true
   },
   "outputs": [],
   "source": [
    "# Write you solution here"
   ]
  },
  {
   "cell_type": "code",
   "execution_count": null,
   "metadata": {
    "collapsed": true
   },
   "outputs": [],
   "source": [
    "# Test your solution here"
   ]
  }
 ],
 "metadata": {
  "kernelspec": {
   "display_name": "Python 3 (ipykernel)",
   "language": "python",
   "name": "python3"
  },
  "language_info": {
   "codemirror_mode": {
    "name": "ipython",
    "version": 3
   },
   "file_extension": ".py",
   "mimetype": "text/x-python",
   "name": "python",
   "nbconvert_exporter": "python",
   "pygments_lexer": "ipython3",
   "version": "3.11.5"
  }
 },
 "nbformat": 4,
 "nbformat_minor": 2
}
