{
 "cells": [
  {
   "cell_type": "markdown",
   "id": "9a9b9c27",
   "metadata": {},
   "source": [
    "Can you rewrite create_new_args as a two lines of code using functional programming, list comprehensions, and shortcuts? How about a single line?"
   ]
  },
  {
   "cell_type": "code",
   "execution_count": 1,
   "id": "de569973",
   "metadata": {},
   "outputs": [],
   "source": [
    "# original \n",
    "def create_new_args_0(args):\n",
    "    max_len = max(map(len,\n",
    "                      filter(lambda x: isinstance(x,list),\n",
    "                        args)))\n",
    "\n",
    "    # Rewrite this section:\n",
    "    new_args=list()\n",
    "\n",
    "    for a in args:\n",
    "        if not isinstance(a,list):\n",
    "            a0=[a]*max_len\n",
    "        elif len(a)!=max_len:\n",
    "            print(\"Error: all list arguments must have same length.\")\n",
    "            return\n",
    "        else:\n",
    "            a0=a\n",
    "        new_args.append(a0)\n",
    "\n",
    "    return new_args"
   ]
  },
  {
   "cell_type": "code",
   "execution_count": 2,
   "id": "7b0a1494",
   "metadata": {},
   "outputs": [
    {
     "data": {
      "text/plain": [
       "[[1, 2], [3, 4], [5, 5]]"
      ]
     },
     "execution_count": 2,
     "metadata": {},
     "output_type": "execute_result"
    }
   ],
   "source": [
    "create_new_args_0([[1,2],[3,4],5])"
   ]
  },
  {
   "cell_type": "code",
   "execution_count": 3,
   "id": "9b864ed6",
   "metadata": {},
   "outputs": [
    {
     "name": "stdout",
     "output_type": "stream",
     "text": [
      "Error: all list arguments must have same length.\n"
     ]
    }
   ],
   "source": [
    "create_new_args_0([[1,2],[3,4,5],5])"
   ]
  },
  {
   "cell_type": "code",
   "execution_count": 10,
   "id": "d16ec636",
   "metadata": {},
   "outputs": [],
   "source": [
    "# two lines \n",
    "\n",
    "def create_new_args_2(args):\n",
    "    max_len = max(map(len, filter(lambda x: isinstance(x,list),args)))\n",
    "    return [a0 if not isinstance(a0,list) or len(a0)==max_len else print('Error: all list arguments must have same length.') or None for a0 in args]"
   ]
  },
  {
   "cell_type": "code",
   "execution_count": 11,
   "id": "97fa4620",
   "metadata": {},
   "outputs": [
    {
     "data": {
      "text/plain": [
       "[[1, 2], [3, 4], 5]"
      ]
     },
     "execution_count": 11,
     "metadata": {},
     "output_type": "execute_result"
    }
   ],
   "source": [
    "create_new_args_2([[1,2],[3,4],5])"
   ]
  },
  {
   "cell_type": "code",
   "execution_count": 12,
   "id": "3620e07d",
   "metadata": {},
   "outputs": [
    {
     "name": "stdout",
     "output_type": "stream",
     "text": [
      "Error: all list arguments must have same length.\n"
     ]
    },
    {
     "data": {
      "text/plain": [
       "[None, [3, 4, 5], 5]"
      ]
     },
     "execution_count": 12,
     "metadata": {},
     "output_type": "execute_result"
    }
   ],
   "source": [
    "create_new_args_2([[1,2],[3,4,5],5])"
   ]
  },
  {
   "cell_type": "code",
   "execution_count": 13,
   "id": "5dc3fa9b",
   "metadata": {},
   "outputs": [],
   "source": [
    "# one line \n",
    "\n",
    "def create_new_args_1(args):\n",
    "    max_len = max(map(len,filter(lambda x:isinstance(x,list), args))); return [a0 if not isinstance(a0, list) or len(a0)==max_len else print(\"Error: all list arguments must have same length.\") or None for a0 in args]"
   ]
  },
  {
   "cell_type": "code",
   "execution_count": 14,
   "id": "d36290c8",
   "metadata": {},
   "outputs": [
    {
     "data": {
      "text/plain": [
       "[[1, 2], [3, 4], 5]"
      ]
     },
     "execution_count": 14,
     "metadata": {},
     "output_type": "execute_result"
    }
   ],
   "source": [
    "create_new_args_1([[1,2],[3,4],5])"
   ]
  },
  {
   "cell_type": "code",
   "execution_count": 15,
   "id": "de3846c5",
   "metadata": {},
   "outputs": [
    {
     "name": "stdout",
     "output_type": "stream",
     "text": [
      "Error: all list arguments must have same length.\n"
     ]
    },
    {
     "data": {
      "text/plain": [
       "[None, [3, 4, 5], 5]"
      ]
     },
     "execution_count": 15,
     "metadata": {},
     "output_type": "execute_result"
    }
   ],
   "source": [
    "create_new_args_1([[1,2],[3,4,5],5])"
   ]
  }
 ],
 "metadata": {
  "kernelspec": {
   "display_name": "Python 3 (ipykernel)",
   "language": "python",
   "name": "python3"
  },
  "language_info": {
   "codemirror_mode": {
    "name": "ipython",
    "version": 3
   },
   "file_extension": ".py",
   "mimetype": "text/x-python",
   "name": "python",
   "nbconvert_exporter": "python",
   "pygments_lexer": "ipython3",
   "version": "3.11.5"
  }
 },
 "nbformat": 4,
 "nbformat_minor": 5
}
